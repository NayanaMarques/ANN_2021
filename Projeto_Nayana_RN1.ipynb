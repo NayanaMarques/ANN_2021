{
  "nbformat": 4,
  "nbformat_minor": 0,
  "metadata": {
    "colab": {
      "name": "Projeto 1 RN.ipynb",
      "provenance": [],
      "collapsed_sections": [],
      "include_colab_link": true
    },
    "kernelspec": {
      "name": "python3",
      "display_name": "Python 3"
    },
    "language_info": {
      "name": "python"
    }
  },
  "cells": [
    {
      "cell_type": "markdown",
      "metadata": {
        "id": "view-in-github",
        "colab_type": "text"
      },
      "source": [
        "<a href=\"https://colab.research.google.com/github/NayanaMarques/ANN_2021/blob/master/Projeto_Nayana_RN1.ipynb\" target=\"_parent\"><img src=\"https://colab.research.google.com/assets/colab-badge.svg\" alt=\"Open In Colab\"/></a>"
      ]
    },
    {
      "cell_type": "code",
      "metadata": {
        "id": "1Dnn5My4tqNF"
      },
      "source": [
        "#Projeto 1: Redes Neurais - Professor Ubirajara Filho\n",
        "#Nayana G. Marques Silva\n",
        "#Artigo: Comparison of neural network application for fuzzy and ANFIS approaches for multi-criteria decision making problems (2014)\n",
        "#\n",
        "#Definição de bibliotecas\n",
        "#\n",
        "import numpy as np #biblioteca numérica Phyton\n",
        "import pandas as pd #biblioteca para manipulação de arquivos\n",
        "import matplotlib.pyplot as plt #biblioteca para gráficos no Phyton\n",
        "from sklearn.neural_network import MLPRegressor #biblioteca para classificação e regressão (regressão - MLPRegressor)\n",
        "from sklearn.metrics import mean_squared_error #biblioteca para soma dos quadrados dos desvios\n",
        "from sklearn.metrics import r2_score #biblioteca para avaliação do ajuste a partir do coeficiente de determinação\n",
        "from google.colab import files #biblioteca para carregar arquivos no Phyton"
      ],
      "execution_count": 47,
      "outputs": []
    },
    {
      "cell_type": "code",
      "metadata": {
        "id": "Bp-Tx3yfkUhT",
        "colab": {
          "base_uri": "https://localhost:8080/"
        },
        "outputId": "3f816fa8-a4d5-4434-c05b-d8e9d8a7f50d"
      },
      "source": [
        "!git clone https://github.com/NayanaMarques/ANN_2021\n",
        "%cd ANN_2021"
      ],
      "execution_count": 48,
      "outputs": [
        {
          "output_type": "stream",
          "text": [
            "Cloning into 'ANN_2021'...\n",
            "remote: Enumerating objects: 43, done.\u001b[K\n",
            "remote: Counting objects: 100% (43/43), done.\u001b[K\n",
            "remote: Compressing objects: 100% (37/37), done.\u001b[K\n",
            "remote: Total 43 (delta 19), reused 9 (delta 3), pack-reused 0\u001b[K\n",
            "Unpacking objects: 100% (43/43), done.\n",
            "/content/ANN_2021/ANN_2021/ANN_2021/ANN_2021/ANN_2021/ANN_2021/ANN_2021/ANN_2021\n"
          ],
          "name": "stdout"
        }
      ]
    },
    {
      "cell_type": "code",
      "metadata": {
        "id": "mO582cA2kg9y",
        "colab": {
          "base_uri": "https://localhost:8080/"
        },
        "outputId": "93cafe61-a13f-474e-b652-bbf0f69a3926"
      },
      "source": [
        "# leitura dos dados\n",
        "df=pd.read_csv(\"Dados de entrada.csv\",delimiter=';')\n",
        "print(df.head(34))"
      ],
      "execution_count": 49,
      "outputs": [
        {
          "output_type": "stream",
          "text": [
            "    Qual  Deliv  Tech  Price  Loc  Supplier Score Train or Test\n",
            "0    3.0    6.0   3.5    4.0  1.5            0.05      Training\n",
            "1    3.5    3.5   6.0    6.0  1.5            0.05          Test\n",
            "2    3.0    4.0   5.0    4.0  7.0            0.07      Training\n",
            "3    7.0    6.0   4.5    6.0  3.0            0.10          Test\n",
            "4    6.5    6.5   6.5    6.5  5.5            0.11      Training\n",
            "5    5.0    4.0   5.5    4.0  5.0            0.11          Test\n",
            "6    5.0    6.0   6.0    5.5  2.5            0.12      Training\n",
            "7    3.5    5.0   6.0    6.5  3.5            0.13          Test\n",
            "8    5.5    4.5   6.0    4.5  7.0            0.15      Training\n",
            "9    5.0    6.5   3.5    3.5  8.0            0.16          Test\n",
            "10   5.5    6.5   5.5    7.0  5.5            0.19      Training\n",
            "11   5.0    7.0   5.5    7.0  5.5            0.19          Test\n",
            "12   4.0    6.0   7.0    5.0  9.0            0.19      Training\n",
            "13   2.0    6.5   2.0    8.0  4.0            0.22          Test\n",
            "14   5.5    7.5   5.5    3.5  7.5            0.23      Training\n",
            "15   5.0    7.0   9.0    4.5  5.0            0.23          Test\n",
            "16   4.0    4.0   7.0    6.5  6.0            0.25      Training\n",
            "17   6.0    6.5   8.0    4.5  5.0            0.27          Test\n",
            "18   4.0    5.5   7.0    8.0  4.0            0.28      Training\n",
            "19   5.0    6.5   8.0    5.0  6.0            0.30          Test\n",
            "20   7.0    8.0   7.0    4.5  2.5            0.34      Training\n",
            "21   6.5    7.5   6.0    6.5  3.0            0.36          Test\n",
            "22   6.0    7.0   9.0    7.0  8.0            0.42      Training\n",
            "23   7.0    8.0   7.0    6.0  3.0            0.44          Test\n",
            "24   8.5    8.0   7.5    2.5  7.5            0.46      Training\n",
            "25   7.0    6.5   7.0    5.0  8.0            0.47          Test\n",
            "26   6.0    7.0   6.0    5.0  6.0            0.48      Training\n",
            "27   7.5    6.0   7.0    5.5  8.0            0.49          Test\n",
            "28   7.5    7.5   9.0    3.0  4.5            0.59      Training\n",
            "29   8.0    9.0   8.0    4.0  5.0            0.59          Test\n",
            "30   8.5    7.0   6.5    4.0  7.0            0.61      Training\n",
            "31   8.0    9.0   8.0    5.0  4.0            0.61          Test\n",
            "32   8.0    8.0   8.5    6.0  4.0            0.64      Training\n"
          ],
          "name": "stdout"
        }
      ]
    },
    {
      "cell_type": "code",
      "metadata": {
        "id": "VjkxaWsk-GIm"
      },
      "source": [
        "# funcao_normatiza_dados - normalizar dados (mesma ordem de grandeza)\n",
        "def funcao_normatiza_dados(x):\n",
        "    strings=list(x)\n",
        "    for i in strings:\n",
        "        max_x=x[i].max() #identifica valor máximo\n",
        "        min_x=x[i].min() #identifica valor mínimo\n",
        "        a=(max_x+min_x)/2\n",
        "        b=(max_x-min_x)/2\n",
        "        x[i]=(x[i]-a)/b\n",
        "    return x"
      ],
      "execution_count": 50,
      "outputs": []
    },
    {
      "cell_type": "code",
      "metadata": {
        "id": "zOJ5OL19_d28"
      },
      "source": [
        "# funcao_dados_originais - retorna os dados a forma original\n",
        "def funcao_dados_originais(x,x_old):\n",
        "    strings=list(x)\n",
        "    for i in strings:\n",
        "        max_x=x_old[i].max()\n",
        "        min_x=x_old[i].min()\n",
        "        a=(max_x+min_x)/2\n",
        "        b=(max_x-min_x)/2\n",
        "        x[i]=x[i]*b+a\n",
        "    return x"
      ],
      "execution_count": 51,
      "outputs": []
    },
    {
      "cell_type": "code",
      "metadata": {
        "id": "9XJbccgHvz-y"
      },
      "source": [
        "# separa os dados em normatizados e originais\n",
        "Dat_Select=[]\n",
        "DAT_OLD=[]\n",
        "DAT_OLD=Dat_Select.copy()\n",
        "DAT=funcao_normatiza_dados(Dat_Select)"
      ],
      "execution_count": 52,
      "outputs": []
    },
    {
      "cell_type": "code",
      "metadata": {
        "id": "OA6ReJQ5ww5A",
        "outputId": "79d7c29a-130f-4ed8-bd74-015425eeb5b9",
        "colab": {
          "base_uri": "https://localhost:8080/",
          "height": 163
        }
      },
      "source": [
        "DAT.head(3) "
      ],
      "execution_count": 53,
      "outputs": [
        {
          "output_type": "error",
          "ename": "AttributeError",
          "evalue": "ignored",
          "traceback": [
            "\u001b[0;31m---------------------------------------------------------------------------\u001b[0m",
            "\u001b[0;31mAttributeError\u001b[0m                            Traceback (most recent call last)",
            "\u001b[0;32m<ipython-input-53-8cf861e3f867>\u001b[0m in \u001b[0;36m<module>\u001b[0;34m()\u001b[0m\n\u001b[0;32m----> 1\u001b[0;31m \u001b[0mDAT\u001b[0m\u001b[0;34m.\u001b[0m\u001b[0mhead\u001b[0m\u001b[0;34m(\u001b[0m\u001b[0;36m3\u001b[0m\u001b[0;34m)\u001b[0m\u001b[0;34m\u001b[0m\u001b[0;34m\u001b[0m\u001b[0m\n\u001b[0m",
            "\u001b[0;31mAttributeError\u001b[0m: 'list' object has no attribute 'head'"
          ]
        }
      ]
    }
  ]
}