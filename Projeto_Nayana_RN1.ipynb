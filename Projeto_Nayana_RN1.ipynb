{
  "nbformat": 4,
  "nbformat_minor": 0,
  "metadata": {
    "colab": {
      "name": "Projeto 1 RN.ipynb",
      "provenance": [],
      "collapsed_sections": [],
      "include_colab_link": true
    },
    "kernelspec": {
      "name": "python3",
      "display_name": "Python 3"
    },
    "language_info": {
      "name": "python"
    }
  },
  "cells": [
    {
      "cell_type": "markdown",
      "metadata": {
        "id": "view-in-github",
        "colab_type": "text"
      },
      "source": [
        "<a href=\"https://colab.research.google.com/github/NayanaMarques/ANN_2021/blob/master/Projeto_Nayana_RN1.ipynb\" target=\"_parent\"><img src=\"https://colab.research.google.com/assets/colab-badge.svg\" alt=\"Open In Colab\"/></a>"
      ]
    },
    {
      "cell_type": "code",
      "metadata": {
        "id": "1Dnn5My4tqNF"
      },
      "source": [
        "#Projeto 1: Redes Neurais - Professor Ubirajara Filho\n",
        "#Nayana G. Marques Silva\n",
        "#Artigo: Comparison of neural network application for fuzzy and ANFIS approaches for multi-criteria decision making problems (2014)\n",
        "#\n",
        "#Definição de bibliotecas\n",
        "#\n",
        "import numpy as np #biblioteca numérica Phyton\n",
        "import pandas as pd #biblioteca para manipulação de arquivos\n",
        "import matplotlib.pyplot as plt #biblioteca para gráficos no Phyton\n",
        "from sklearn.neural_network import MLPRegressor #biblioteca para classificação e regressão (regressão - MLPRegressor)\n",
        "from sklearn.metrics import mean_squared_error #biblioteca para soma dos quadrados dos desvios\n",
        "from sklearn.metrics import r2_score #biblioteca para avaliação do ajuste a partir do coeficiente de determinação\n",
        "from google.colab import files #biblioteca para carregar arquivos no Phyton"
      ],
      "execution_count": 475,
      "outputs": []
    },
    {
      "cell_type": "code",
      "metadata": {
        "id": "Bp-Tx3yfkUhT",
        "colab": {
          "base_uri": "https://localhost:8080/"
        },
        "outputId": "6a8da125-2bf9-47ce-bb63-8d6f754b7d13"
      },
      "source": [
        "!git clone https://github.com/NayanaMarques/ANN_2021\n",
        "%cd ANN_2021"
      ],
      "execution_count": 476,
      "outputs": [
        {
          "output_type": "stream",
          "text": [
            "Cloning into 'ANN_2021'...\n",
            "remote: Enumerating objects: 49, done.\u001b[K\n",
            "remote: Counting objects:   2% (1/49)\u001b[K\rremote: Counting objects:   4% (2/49)\u001b[K\rremote: Counting objects:   6% (3/49)\u001b[K\rremote: Counting objects:   8% (4/49)\u001b[K\rremote: Counting objects:  10% (5/49)\u001b[K\rremote: Counting objects:  12% (6/49)\u001b[K\rremote: Counting objects:  14% (7/49)\u001b[K\rremote: Counting objects:  16% (8/49)\u001b[K\rremote: Counting objects:  18% (9/49)\u001b[K\rremote: Counting objects:  20% (10/49)\u001b[K\rremote: Counting objects:  22% (11/49)\u001b[K\rremote: Counting objects:  24% (12/49)\u001b[K\rremote: Counting objects:  26% (13/49)\u001b[K\rremote: Counting objects:  28% (14/49)\u001b[K\rremote: Counting objects:  30% (15/49)\u001b[K\rremote: Counting objects:  32% (16/49)\u001b[K\rremote: Counting objects:  34% (17/49)\u001b[K\rremote: Counting objects:  36% (18/49)\u001b[K\rremote: Counting objects:  38% (19/49)\u001b[K\rremote: Counting objects:  40% (20/49)\u001b[K\rremote: Counting objects:  42% (21/49)\u001b[K\rremote: Counting objects:  44% (22/49)\u001b[K\rremote: Counting objects:  46% (23/49)\u001b[K\rremote: Counting objects:  48% (24/49)\u001b[K\rremote: Counting objects:  51% (25/49)\u001b[K\rremote: Counting objects:  53% (26/49)\u001b[K\rremote: Counting objects:  55% (27/49)\u001b[K\rremote: Counting objects:  57% (28/49)\u001b[K\rremote: Counting objects:  59% (29/49)\u001b[K\rremote: Counting objects:  61% (30/49)\u001b[K\rremote: Counting objects:  63% (31/49)\u001b[K\rremote: Counting objects:  65% (32/49)\u001b[K\rremote: Counting objects:  67% (33/49)\u001b[K\rremote: Counting objects:  69% (34/49)\u001b[K\rremote: Counting objects:  71% (35/49)\u001b[K\rremote: Counting objects:  73% (36/49)\u001b[K\rremote: Counting objects:  75% (37/49)\u001b[K\rremote: Counting objects:  77% (38/49)\u001b[K\rremote: Counting objects:  79% (39/49)\u001b[K\rremote: Counting objects:  81% (40/49)\u001b[K\rremote: Counting objects:  83% (41/49)\u001b[K\rremote: Counting objects:  85% (42/49)\u001b[K\rremote: Counting objects:  87% (43/49)\u001b[K\rremote: Counting objects:  89% (44/49)\u001b[K\rremote: Counting objects:  91% (45/49)\u001b[K\rremote: Counting objects:  93% (46/49)\u001b[K\rremote: Counting objects:  95% (47/49)\u001b[K\rremote: Counting objects:  97% (48/49)\u001b[K\rremote: Counting objects: 100% (49/49)\u001b[K\rremote: Counting objects: 100% (49/49), done.\u001b[K\n",
            "remote: Compressing objects:   2% (1/43)\u001b[K\rremote: Compressing objects:   4% (2/43)\u001b[K\rremote: Compressing objects:   6% (3/43)\u001b[K\rremote: Compressing objects:   9% (4/43)\u001b[K\rremote: Compressing objects:  11% (5/43)\u001b[K\rremote: Compressing objects:  13% (6/43)\u001b[K\rremote: Compressing objects:  16% (7/43)\u001b[K\rremote: Compressing objects:  18% (8/43)\u001b[K\rremote: Compressing objects:  20% (9/43)\u001b[K\rremote: Compressing objects:  23% (10/43)\u001b[K\rremote: Compressing objects:  25% (11/43)\u001b[K\rremote: Compressing objects:  27% (12/43)\u001b[K\rremote: Compressing objects:  30% (13/43)\u001b[K\rremote: Compressing objects:  32% (14/43)\u001b[K\rremote: Compressing objects:  34% (15/43)\u001b[K\rremote: Compressing objects:  37% (16/43)\u001b[K\rremote: Compressing objects:  39% (17/43)\u001b[K\rremote: Compressing objects:  41% (18/43)\u001b[K\rremote: Compressing objects:  44% (19/43)\u001b[K\rremote: Compressing objects:  46% (20/43)\u001b[K\rremote: Compressing objects:  48% (21/43)\u001b[K\rremote: Compressing objects:  51% (22/43)\u001b[K\rremote: Compressing objects:  53% (23/43)\u001b[K\rremote: Compressing objects:  55% (24/43)\u001b[K\rremote: Compressing objects:  58% (25/43)\u001b[K\rremote: Compressing objects:  60% (26/43)\u001b[K\rremote: Compressing objects:  62% (27/43)\u001b[K\rremote: Compressing objects:  65% (28/43)\u001b[K\rremote: Compressing objects:  67% (29/43)\u001b[K\rremote: Compressing objects:  69% (30/43)\u001b[K\rremote: Compressing objects:  72% (31/43)\u001b[K\rremote: Compressing objects:  74% (32/43)\u001b[K\rremote: Compressing objects:  76% (33/43)\u001b[K\rremote: Compressing objects:  79% (34/43)\u001b[K\rremote: Compressing objects:  81% (35/43)\u001b[K\rremote: Compressing objects:  83% (36/43)\u001b[K\rremote: Compressing objects:  86% (37/43)\u001b[K\rremote: Compressing objects:  88% (38/43)\u001b[K\rremote: Compressing objects:  90% (39/43)\u001b[K\rremote: Compressing objects:  93% (40/43)\u001b[K\rremote: Compressing objects:  95% (41/43)\u001b[K\rremote: Compressing objects:  97% (42/43)\u001b[K\rremote: Compressing objects: 100% (43/43)\u001b[K\rremote: Compressing objects: 100% (43/43), done.\u001b[K\n",
            "remote: Total 49 (delta 23), reused 9 (delta 3), pack-reused 0\u001b[K\n",
            "Unpacking objects:   2% (1/49)   \rUnpacking objects:   4% (2/49)   \rUnpacking objects:   6% (3/49)   \rUnpacking objects:   8% (4/49)   \rUnpacking objects:  10% (5/49)   \rUnpacking objects:  12% (6/49)   \rUnpacking objects:  14% (7/49)   \rUnpacking objects:  16% (8/49)   \rUnpacking objects:  18% (9/49)   \rUnpacking objects:  20% (10/49)   \rUnpacking objects:  22% (11/49)   \rUnpacking objects:  24% (12/49)   \rUnpacking objects:  26% (13/49)   \rUnpacking objects:  28% (14/49)   \rUnpacking objects:  30% (15/49)   \rUnpacking objects:  32% (16/49)   \rUnpacking objects:  34% (17/49)   \rUnpacking objects:  36% (18/49)   \rUnpacking objects:  38% (19/49)   \rUnpacking objects:  40% (20/49)   \rUnpacking objects:  42% (21/49)   \rUnpacking objects:  44% (22/49)   \rUnpacking objects:  46% (23/49)   \rUnpacking objects:  48% (24/49)   \rUnpacking objects:  51% (25/49)   \rUnpacking objects:  53% (26/49)   \rUnpacking objects:  55% (27/49)   \rUnpacking objects:  57% (28/49)   \rUnpacking objects:  59% (29/49)   \rUnpacking objects:  61% (30/49)   \rUnpacking objects:  63% (31/49)   \rUnpacking objects:  65% (32/49)   \rUnpacking objects:  67% (33/49)   \rUnpacking objects:  69% (34/49)   \rUnpacking objects:  71% (35/49)   \rUnpacking objects:  73% (36/49)   \rUnpacking objects:  75% (37/49)   \rUnpacking objects:  77% (38/49)   \rUnpacking objects:  79% (39/49)   \rUnpacking objects:  81% (40/49)   \rUnpacking objects:  83% (41/49)   \rUnpacking objects:  85% (42/49)   \rUnpacking objects:  87% (43/49)   \rUnpacking objects:  89% (44/49)   \rUnpacking objects:  91% (45/49)   \rUnpacking objects:  93% (46/49)   \rUnpacking objects:  95% (47/49)   \rUnpacking objects:  97% (48/49)   \rUnpacking objects: 100% (49/49)   \rUnpacking objects: 100% (49/49), done.\n",
            "/content/ANN_2021/ANN_2021/ANN_2021/ANN_2021/ANN_2021/ANN_2021/ANN_2021/ANN_2021/ANN_2021/ANN_2021/ANN_2021/ANN_2021/ANN_2021/ANN_2021/ANN_2021/ANN_2021/ANN_2021/ANN_2021/ANN_2021/ANN_2021/ANN_2021/ANN_2021/ANN_2021/ANN_2021/ANN_2021/ANN_2021/ANN_2021/ANN_2021/ANN_2021/ANN_2021/ANN_2021/ANN_2021/ANN_2021/ANN_2021/ANN_2021/ANN_2021\n"
          ],
          "name": "stdout"
        }
      ]
    },
    {
      "cell_type": "code",
      "metadata": {
        "id": "mO582cA2kg9y",
        "colab": {
          "base_uri": "https://localhost:8080/"
        },
        "outputId": "7dae2e47-bbe1-4034-82f0-5ba55dd6aca1"
      },
      "source": [
        "# leitura dos dados\n",
        "df=pd.read_csv(\"Dados de entrada.csv\",delimiter=';')\n",
        "print(df.head(34))"
      ],
      "execution_count": 477,
      "outputs": [
        {
          "output_type": "stream",
          "text": [
            "    Qual  Deliv  Tech  Price  Loc  Supplier Score Train or Test\n",
            "0    3.0    6.0   3.5    4.0  1.5            0.05      Training\n",
            "1    3.5    3.5   6.0    6.0  1.5            0.05          Test\n",
            "2    3.0    4.0   5.0    4.0  7.0            0.07      Training\n",
            "3    7.0    6.0   4.5    6.0  3.0            0.10          Test\n",
            "4    6.5    6.5   6.5    6.5  5.5            0.11      Training\n",
            "5    5.0    4.0   5.5    4.0  5.0            0.11          Test\n",
            "6    5.0    6.0   6.0    5.5  2.5            0.12      Training\n",
            "7    3.5    5.0   6.0    6.5  3.5            0.13          Test\n",
            "8    5.5    4.5   6.0    4.5  7.0            0.15      Training\n",
            "9    5.0    6.5   3.5    3.5  8.0            0.16          Test\n",
            "10   5.5    6.5   5.5    7.0  5.5            0.19      Training\n",
            "11   5.0    7.0   5.5    7.0  5.5            0.19          Test\n",
            "12   4.0    6.0   7.0    5.0  9.0            0.19      Training\n",
            "13   2.0    6.5   2.0    8.0  4.0            0.22          Test\n",
            "14   5.5    7.5   5.5    3.5  7.5            0.23      Training\n",
            "15   5.0    7.0   9.0    4.5  5.0            0.23          Test\n",
            "16   4.0    4.0   7.0    6.5  6.0            0.25      Training\n",
            "17   6.0    6.5   8.0    4.5  5.0            0.27          Test\n",
            "18   4.0    5.5   7.0    8.0  4.0            0.28      Training\n",
            "19   5.0    6.5   8.0    5.0  6.0            0.30          Test\n",
            "20   7.0    8.0   7.0    4.5  2.5            0.34      Training\n",
            "21   6.5    7.5   6.0    6.5  3.0            0.36          Test\n",
            "22   6.0    7.0   9.0    7.0  8.0            0.42      Training\n",
            "23   7.0    8.0   7.0    6.0  3.0            0.44          Test\n",
            "24   8.5    8.0   7.5    2.5  7.5            0.46      Training\n",
            "25   7.0    6.5   7.0    5.0  8.0            0.47          Test\n",
            "26   6.0    7.0   6.0    5.0  6.0            0.48      Training\n",
            "27   7.5    6.0   7.0    5.5  8.0            0.49          Test\n",
            "28   7.5    7.5   9.0    3.0  4.5            0.59      Training\n",
            "29   8.0    9.0   8.0    4.0  5.0            0.59          Test\n",
            "30   8.5    7.0   6.5    4.0  7.0            0.61      Training\n",
            "31   8.0    9.0   8.0    5.0  4.0            0.61          Test\n",
            "32   8.0    8.0   8.5    6.0  4.0            0.64      Training\n"
          ],
          "name": "stdout"
        }
      ]
    },
    {
      "cell_type": "code",
      "metadata": {
        "id": "vWBZiHc966B8",
        "colab": {
          "base_uri": "https://localhost:8080/",
          "height": 142
        },
        "outputId": "ab50b96e-e816-4ab9-ec53-68fcbb693be9"
      },
      "source": [
        "# Separa as colunas de interesse, imprimindo todas as linhas e as colunas indicadas no Index (lista)\n",
        "Index=[0,1,2,3,4,5]\n",
        "DS=[]\n",
        "DS=df.iloc[:,Index].copy()\n",
        "DS.head(3)"
      ],
      "execution_count": 478,
      "outputs": [
        {
          "output_type": "execute_result",
          "data": {
            "text/html": [
              "<div>\n",
              "<style scoped>\n",
              "    .dataframe tbody tr th:only-of-type {\n",
              "        vertical-align: middle;\n",
              "    }\n",
              "\n",
              "    .dataframe tbody tr th {\n",
              "        vertical-align: top;\n",
              "    }\n",
              "\n",
              "    .dataframe thead th {\n",
              "        text-align: right;\n",
              "    }\n",
              "</style>\n",
              "<table border=\"1\" class=\"dataframe\">\n",
              "  <thead>\n",
              "    <tr style=\"text-align: right;\">\n",
              "      <th></th>\n",
              "      <th>Qual</th>\n",
              "      <th>Deliv</th>\n",
              "      <th>Tech</th>\n",
              "      <th>Price</th>\n",
              "      <th>Loc</th>\n",
              "      <th>Supplier Score</th>\n",
              "    </tr>\n",
              "  </thead>\n",
              "  <tbody>\n",
              "    <tr>\n",
              "      <th>0</th>\n",
              "      <td>3.0</td>\n",
              "      <td>6.0</td>\n",
              "      <td>3.5</td>\n",
              "      <td>4.0</td>\n",
              "      <td>1.5</td>\n",
              "      <td>0.05</td>\n",
              "    </tr>\n",
              "    <tr>\n",
              "      <th>1</th>\n",
              "      <td>3.5</td>\n",
              "      <td>3.5</td>\n",
              "      <td>6.0</td>\n",
              "      <td>6.0</td>\n",
              "      <td>1.5</td>\n",
              "      <td>0.05</td>\n",
              "    </tr>\n",
              "    <tr>\n",
              "      <th>2</th>\n",
              "      <td>3.0</td>\n",
              "      <td>4.0</td>\n",
              "      <td>5.0</td>\n",
              "      <td>4.0</td>\n",
              "      <td>7.0</td>\n",
              "      <td>0.07</td>\n",
              "    </tr>\n",
              "  </tbody>\n",
              "</table>\n",
              "</div>"
            ],
            "text/plain": [
              "   Qual  Deliv  Tech  Price  Loc  Supplier Score\n",
              "0   3.0    6.0   3.5    4.0  1.5            0.05\n",
              "1   3.5    3.5   6.0    6.0  1.5            0.05\n",
              "2   3.0    4.0   5.0    4.0  7.0            0.07"
            ]
          },
          "metadata": {
            "tags": []
          },
          "execution_count": 478
        }
      ]
    },
    {
      "cell_type": "code",
      "metadata": {
        "id": "VjkxaWsk-GIm"
      },
      "source": [
        "# funcao_normatiza_dados - normalizar dados (mesma ordem de grandeza)\n",
        "def funcao_normatiza_dados(x):\n",
        "    strings=list(x)\n",
        "    for i in strings:\n",
        "        max_x=x[i].max()\n",
        "        min_x=x[i].min()\n",
        "        a=(max_x+min_x)/2\n",
        "        b=(max_x-min_x)/2\n",
        "        x[i]=(x[i]-a)/b\n",
        "    return x"
      ],
      "execution_count": 479,
      "outputs": []
    },
    {
      "cell_type": "code",
      "metadata": {
        "id": "zOJ5OL19_d28"
      },
      "source": [
        "# funcao_dados_originais - retorna os dados a forma original\n",
        "def funcao_dados_originais(x,x_old):\n",
        "    strings=list(x)\n",
        "    for i in strings:\n",
        "        max_x=x_old[i].max()\n",
        "        min_x=x_old[i].min()\n",
        "        a=(max_x+min_x)/2\n",
        "        b=(max_x-min_x)/2\n",
        "        x[i]=x[i]*b+a\n",
        "    return x"
      ],
      "execution_count": 480,
      "outputs": []
    },
    {
      "cell_type": "code",
      "metadata": {
        "id": "9XJbccgHvz-y"
      },
      "source": [
        "# separa os dados em normatizados e originais\n",
        "DAT_2=[]\n",
        "DAT_2=DS.copy()\n",
        "DAT=funcao_normatiza_dados (DS)"
      ],
      "execution_count": 481,
      "outputs": []
    },
    {
      "cell_type": "code",
      "metadata": {
        "id": "OA6ReJQ5ww5A",
        "colab": {
          "base_uri": "https://localhost:8080/",
          "height": 359
        },
        "outputId": "c7ca6e32-d2aa-4056-f578-eb2f91a9ebdf"
      },
      "source": [
        "DATA.head(10) # conferência dos dados (entre -1 e 1)"
      ],
      "execution_count": 482,
      "outputs": [
        {
          "output_type": "execute_result",
          "data": {
            "text/html": [
              "<div>\n",
              "<style scoped>\n",
              "    .dataframe tbody tr th:only-of-type {\n",
              "        vertical-align: middle;\n",
              "    }\n",
              "\n",
              "    .dataframe tbody tr th {\n",
              "        vertical-align: top;\n",
              "    }\n",
              "\n",
              "    .dataframe thead th {\n",
              "        text-align: right;\n",
              "    }\n",
              "</style>\n",
              "<table border=\"1\" class=\"dataframe\">\n",
              "  <thead>\n",
              "    <tr style=\"text-align: right;\">\n",
              "      <th></th>\n",
              "      <th>Qual</th>\n",
              "      <th>Deliv</th>\n",
              "      <th>Tech</th>\n",
              "      <th>Price</th>\n",
              "      <th>Loc</th>\n",
              "      <th>Supplier Score</th>\n",
              "    </tr>\n",
              "  </thead>\n",
              "  <tbody>\n",
              "    <tr>\n",
              "      <th>0</th>\n",
              "      <td>-0.692308</td>\n",
              "      <td>-0.090909</td>\n",
              "      <td>-0.571429</td>\n",
              "      <td>-0.454545</td>\n",
              "      <td>-1.000000</td>\n",
              "      <td>-1.000000</td>\n",
              "    </tr>\n",
              "    <tr>\n",
              "      <th>1</th>\n",
              "      <td>-0.538462</td>\n",
              "      <td>-1.000000</td>\n",
              "      <td>0.142857</td>\n",
              "      <td>0.272727</td>\n",
              "      <td>-1.000000</td>\n",
              "      <td>-1.000000</td>\n",
              "    </tr>\n",
              "    <tr>\n",
              "      <th>2</th>\n",
              "      <td>-0.692308</td>\n",
              "      <td>-0.818182</td>\n",
              "      <td>-0.142857</td>\n",
              "      <td>-0.454545</td>\n",
              "      <td>0.466667</td>\n",
              "      <td>-0.932203</td>\n",
              "    </tr>\n",
              "    <tr>\n",
              "      <th>3</th>\n",
              "      <td>0.538462</td>\n",
              "      <td>-0.090909</td>\n",
              "      <td>-0.285714</td>\n",
              "      <td>0.272727</td>\n",
              "      <td>-0.600000</td>\n",
              "      <td>-0.830508</td>\n",
              "    </tr>\n",
              "    <tr>\n",
              "      <th>4</th>\n",
              "      <td>0.384615</td>\n",
              "      <td>0.090909</td>\n",
              "      <td>0.285714</td>\n",
              "      <td>0.454545</td>\n",
              "      <td>0.066667</td>\n",
              "      <td>-0.796610</td>\n",
              "    </tr>\n",
              "    <tr>\n",
              "      <th>5</th>\n",
              "      <td>-0.076923</td>\n",
              "      <td>-0.818182</td>\n",
              "      <td>0.000000</td>\n",
              "      <td>-0.454545</td>\n",
              "      <td>-0.066667</td>\n",
              "      <td>-0.796610</td>\n",
              "    </tr>\n",
              "    <tr>\n",
              "      <th>6</th>\n",
              "      <td>-0.076923</td>\n",
              "      <td>-0.090909</td>\n",
              "      <td>0.142857</td>\n",
              "      <td>0.090909</td>\n",
              "      <td>-0.733333</td>\n",
              "      <td>-0.762712</td>\n",
              "    </tr>\n",
              "    <tr>\n",
              "      <th>7</th>\n",
              "      <td>-0.538462</td>\n",
              "      <td>-0.454545</td>\n",
              "      <td>0.142857</td>\n",
              "      <td>0.454545</td>\n",
              "      <td>-0.466667</td>\n",
              "      <td>-0.728814</td>\n",
              "    </tr>\n",
              "    <tr>\n",
              "      <th>8</th>\n",
              "      <td>0.076923</td>\n",
              "      <td>-0.636364</td>\n",
              "      <td>0.142857</td>\n",
              "      <td>-0.272727</td>\n",
              "      <td>0.466667</td>\n",
              "      <td>-0.661017</td>\n",
              "    </tr>\n",
              "    <tr>\n",
              "      <th>9</th>\n",
              "      <td>-0.076923</td>\n",
              "      <td>0.090909</td>\n",
              "      <td>-0.571429</td>\n",
              "      <td>-0.636364</td>\n",
              "      <td>0.733333</td>\n",
              "      <td>-0.627119</td>\n",
              "    </tr>\n",
              "  </tbody>\n",
              "</table>\n",
              "</div>"
            ],
            "text/plain": [
              "       Qual     Deliv      Tech     Price       Loc  Supplier Score\n",
              "0 -0.692308 -0.090909 -0.571429 -0.454545 -1.000000       -1.000000\n",
              "1 -0.538462 -1.000000  0.142857  0.272727 -1.000000       -1.000000\n",
              "2 -0.692308 -0.818182 -0.142857 -0.454545  0.466667       -0.932203\n",
              "3  0.538462 -0.090909 -0.285714  0.272727 -0.600000       -0.830508\n",
              "4  0.384615  0.090909  0.285714  0.454545  0.066667       -0.796610\n",
              "5 -0.076923 -0.818182  0.000000 -0.454545 -0.066667       -0.796610\n",
              "6 -0.076923 -0.090909  0.142857  0.090909 -0.733333       -0.762712\n",
              "7 -0.538462 -0.454545  0.142857  0.454545 -0.466667       -0.728814\n",
              "8  0.076923 -0.636364  0.142857 -0.272727  0.466667       -0.661017\n",
              "9 -0.076923  0.090909 -0.571429 -0.636364  0.733333       -0.627119"
            ]
          },
          "metadata": {
            "tags": []
          },
          "execution_count": 482
        }
      ]
    },
    {
      "cell_type": "code",
      "metadata": {
        "colab": {
          "base_uri": "https://localhost:8080/",
          "height": 173
        },
        "id": "928C5diM5ueg",
        "outputId": "85a1b593-6295-4b0a-b64d-21530d3288ca"
      },
      "source": [
        "# Separação dos dados: treino e teste (75% para treino e 25% para teste) - sample (randômico) - drop (não usar dados de treino para teste)\n",
        "train=DAT.sample(frac=0.8,random_state=None) \n",
        "test=DAT.drop(train.index)\n",
        "train.head(4) #print de checagem "
      ],
      "execution_count": 483,
      "outputs": [
        {
          "output_type": "execute_result",
          "data": {
            "text/html": [
              "<div>\n",
              "<style scoped>\n",
              "    .dataframe tbody tr th:only-of-type {\n",
              "        vertical-align: middle;\n",
              "    }\n",
              "\n",
              "    .dataframe tbody tr th {\n",
              "        vertical-align: top;\n",
              "    }\n",
              "\n",
              "    .dataframe thead th {\n",
              "        text-align: right;\n",
              "    }\n",
              "</style>\n",
              "<table border=\"1\" class=\"dataframe\">\n",
              "  <thead>\n",
              "    <tr style=\"text-align: right;\">\n",
              "      <th></th>\n",
              "      <th>Qual</th>\n",
              "      <th>Deliv</th>\n",
              "      <th>Tech</th>\n",
              "      <th>Price</th>\n",
              "      <th>Loc</th>\n",
              "      <th>Supplier Score</th>\n",
              "    </tr>\n",
              "  </thead>\n",
              "  <tbody>\n",
              "    <tr>\n",
              "      <th>7</th>\n",
              "      <td>-0.538462</td>\n",
              "      <td>-0.454545</td>\n",
              "      <td>0.142857</td>\n",
              "      <td>0.454545</td>\n",
              "      <td>-0.466667</td>\n",
              "      <td>-0.728814</td>\n",
              "    </tr>\n",
              "    <tr>\n",
              "      <th>14</th>\n",
              "      <td>0.076923</td>\n",
              "      <td>0.454545</td>\n",
              "      <td>0.000000</td>\n",
              "      <td>-0.636364</td>\n",
              "      <td>0.600000</td>\n",
              "      <td>-0.389831</td>\n",
              "    </tr>\n",
              "    <tr>\n",
              "      <th>16</th>\n",
              "      <td>-0.384615</td>\n",
              "      <td>-0.818182</td>\n",
              "      <td>0.428571</td>\n",
              "      <td>0.454545</td>\n",
              "      <td>0.200000</td>\n",
              "      <td>-0.322034</td>\n",
              "    </tr>\n",
              "    <tr>\n",
              "      <th>3</th>\n",
              "      <td>0.538462</td>\n",
              "      <td>-0.090909</td>\n",
              "      <td>-0.285714</td>\n",
              "      <td>0.272727</td>\n",
              "      <td>-0.600000</td>\n",
              "      <td>-0.830508</td>\n",
              "    </tr>\n",
              "  </tbody>\n",
              "</table>\n",
              "</div>"
            ],
            "text/plain": [
              "        Qual     Deliv      Tech     Price       Loc  Supplier Score\n",
              "7  -0.538462 -0.454545  0.142857  0.454545 -0.466667       -0.728814\n",
              "14  0.076923  0.454545  0.000000 -0.636364  0.600000       -0.389831\n",
              "16 -0.384615 -0.818182  0.428571  0.454545  0.200000       -0.322034\n",
              "3   0.538462 -0.090909 -0.285714  0.272727 -0.600000       -0.830508"
            ]
          },
          "metadata": {
            "tags": []
          },
          "execution_count": 483
        }
      ]
    },
    {
      "cell_type": "code",
      "metadata": {
        "colab": {
          "base_uri": "https://localhost:8080/",
          "height": 173
        },
        "id": "6Vx6eyG86r4J",
        "outputId": "72137391-cd8a-4413-d047-9bcfedd20c98"
      },
      "source": [
        "test.tail(4) #print de checagem "
      ],
      "execution_count": 484,
      "outputs": [
        {
          "output_type": "execute_result",
          "data": {
            "text/html": [
              "<div>\n",
              "<style scoped>\n",
              "    .dataframe tbody tr th:only-of-type {\n",
              "        vertical-align: middle;\n",
              "    }\n",
              "\n",
              "    .dataframe tbody tr th {\n",
              "        vertical-align: top;\n",
              "    }\n",
              "\n",
              "    .dataframe thead th {\n",
              "        text-align: right;\n",
              "    }\n",
              "</style>\n",
              "<table border=\"1\" class=\"dataframe\">\n",
              "  <thead>\n",
              "    <tr style=\"text-align: right;\">\n",
              "      <th></th>\n",
              "      <th>Qual</th>\n",
              "      <th>Deliv</th>\n",
              "      <th>Tech</th>\n",
              "      <th>Price</th>\n",
              "      <th>Loc</th>\n",
              "      <th>Supplier Score</th>\n",
              "    </tr>\n",
              "  </thead>\n",
              "  <tbody>\n",
              "    <tr>\n",
              "      <th>25</th>\n",
              "      <td>0.538462</td>\n",
              "      <td>0.090909</td>\n",
              "      <td>0.428571</td>\n",
              "      <td>-0.090909</td>\n",
              "      <td>0.733333</td>\n",
              "      <td>0.423729</td>\n",
              "    </tr>\n",
              "    <tr>\n",
              "      <th>26</th>\n",
              "      <td>0.230769</td>\n",
              "      <td>0.272727</td>\n",
              "      <td>0.142857</td>\n",
              "      <td>-0.090909</td>\n",
              "      <td>0.200000</td>\n",
              "      <td>0.457627</td>\n",
              "    </tr>\n",
              "    <tr>\n",
              "      <th>29</th>\n",
              "      <td>0.846154</td>\n",
              "      <td>1.000000</td>\n",
              "      <td>0.714286</td>\n",
              "      <td>-0.454545</td>\n",
              "      <td>-0.066667</td>\n",
              "      <td>0.830508</td>\n",
              "    </tr>\n",
              "    <tr>\n",
              "      <th>30</th>\n",
              "      <td>1.000000</td>\n",
              "      <td>0.272727</td>\n",
              "      <td>0.285714</td>\n",
              "      <td>-0.454545</td>\n",
              "      <td>0.466667</td>\n",
              "      <td>0.898305</td>\n",
              "    </tr>\n",
              "  </tbody>\n",
              "</table>\n",
              "</div>"
            ],
            "text/plain": [
              "        Qual     Deliv      Tech     Price       Loc  Supplier Score\n",
              "25  0.538462  0.090909  0.428571 -0.090909  0.733333        0.423729\n",
              "26  0.230769  0.272727  0.142857 -0.090909  0.200000        0.457627\n",
              "29  0.846154  1.000000  0.714286 -0.454545 -0.066667        0.830508\n",
              "30  1.000000  0.272727  0.285714 -0.454545  0.466667        0.898305"
            ]
          },
          "metadata": {
            "tags": []
          },
          "execution_count": 484
        }
      ]
    },
    {
      "cell_type": "code",
      "metadata": {
        "id": "bae_L0S07_P_"
      },
      "source": [
        "# Definição das variáveis independentes (treino e teste) - Colunas 0 a 4\n",
        "x_train=train.iloc[:,[0,1,2,3,4]]\n",
        "x_test=test.iloc[:,[0,1,2,3,4]]\n",
        "X_2=DAT_2.iloc[:,[0,1,2,3,4]]"
      ],
      "execution_count": 485,
      "outputs": []
    },
    {
      "cell_type": "code",
      "metadata": {
        "id": "8k99gEdt8eGf"
      },
      "source": [
        "# Definição da variável dependente - Coluna 5\n",
        "y_train=train.iloc[:,5]\n",
        "y_test=test.iloc[:,5]\n",
        "Y_2=DAT_2.iloc[:,5]"
      ],
      "execution_count": 486,
      "outputs": []
    },
    {
      "cell_type": "code",
      "metadata": {
        "id": "WUVC9_GQ9HUI"
      },
      "source": [
        "# Definindo a rede neural - não foi utilizada a do artigo e sim a rede dada em aula (MLPRegressor do sklearn)\n",
        "# solver: lbfgs (poucos dados) \n",
        "# função de ativação: tangente hiperbólica \n",
        "# alpha: pequeno (erro)\n",
        "# Hidden_layer_size: 2 camadas ocultas com 5 neurônios cada\n",
        "# random_state: dados randômicos\n",
        "supplierscore = MLPRegressor(solver='lbfgs',activation='tanh',alpha=1e-5,max_iter=500, hidden_layer_sizes=(5, 5),random_state=1)"
      ],
      "execution_count": 487,
      "outputs": []
    },
    {
      "cell_type": "code",
      "metadata": {
        "colab": {
          "base_uri": "https://localhost:8080/"
        },
        "id": "V_Fq-isk9bE6",
        "outputId": "ab9ba876-8650-4909-b679-3faff6be02ab"
      },
      "source": [
        "# Treinamento da rede neural construída\n",
        "supplierscore.fit(x_train, y_train)"
      ],
      "execution_count": 488,
      "outputs": [
        {
          "output_type": "execute_result",
          "data": {
            "text/plain": [
              "MLPRegressor(activation='tanh', alpha=1e-05, batch_size='auto', beta_1=0.9,\n",
              "             beta_2=0.999, early_stopping=False, epsilon=1e-08,\n",
              "             hidden_layer_sizes=(5, 5), learning_rate='constant',\n",
              "             learning_rate_init=0.001, max_fun=15000, max_iter=500,\n",
              "             momentum=0.9, n_iter_no_change=10, nesterovs_momentum=True,\n",
              "             power_t=0.5, random_state=1, shuffle=True, solver='lbfgs',\n",
              "             tol=0.0001, validation_fraction=0.1, verbose=False,\n",
              "             warm_start=False)"
            ]
          },
          "metadata": {
            "tags": []
          },
          "execution_count": 488
        }
      ]
    },
    {
      "cell_type": "code",
      "metadata": {
        "id": "AjEq08MH_bJe"
      },
      "source": [
        "# Validação treino e teste\n",
        "y_calc_train=supplierscore.predict(x_train)\n",
        "y_calc_test=supplierscore.predict(x_test)"
      ],
      "execution_count": 489,
      "outputs": []
    },
    {
      "cell_type": "code",
      "metadata": {
        "id": "0uUo5alkJ1Tj"
      },
      "source": [
        "# Conversão dados normatizados para a forma original (não normalizado)\n",
        "y_calc_train=funcao_dados_originais(y_calc_train,Y_2)\n",
        "y_calc_test=funcao_dados_originais(y_calc_test,Y_2)"
      ],
      "execution_count": null,
      "outputs": []
    },
    {
      "cell_type": "code",
      "metadata": {
        "colab": {
          "base_uri": "https://localhost:8080/",
          "height": 357
        },
        "id": "AY64x2BhHoWd",
        "outputId": "486fa317-2d45-4efe-b8eb-14357fa8ec1f"
      },
      "source": [
        "# recuperando dados originais \n",
        "test=[]\n",
        "train=[]\n",
        "train=funcao_dados_originais(y_train,Y_2)\n",
        "test=funcao_dados_originais(y_test,Y_2)"
      ],
      "execution_count": 490,
      "outputs": [
        {
          "output_type": "error",
          "ename": "KeyError",
          "evalue": "ignored",
          "traceback": [
            "\u001b[0;31m---------------------------------------------------------------------------\u001b[0m",
            "\u001b[0;31mKeyError\u001b[0m                                  Traceback (most recent call last)",
            "\u001b[0;32m<ipython-input-490-af6ee1d620b5>\u001b[0m in \u001b[0;36m<module>\u001b[0;34m()\u001b[0m\n\u001b[1;32m      2\u001b[0m \u001b[0mtest\u001b[0m\u001b[0;34m=\u001b[0m\u001b[0;34m[\u001b[0m\u001b[0;34m]\u001b[0m\u001b[0;34m\u001b[0m\u001b[0;34m\u001b[0m\u001b[0m\n\u001b[1;32m      3\u001b[0m \u001b[0mtrain\u001b[0m\u001b[0;34m=\u001b[0m\u001b[0;34m[\u001b[0m\u001b[0;34m]\u001b[0m\u001b[0;34m\u001b[0m\u001b[0;34m\u001b[0m\u001b[0m\n\u001b[0;32m----> 4\u001b[0;31m \u001b[0mtrain\u001b[0m\u001b[0;34m=\u001b[0m\u001b[0mfuncao_dados_originais\u001b[0m\u001b[0;34m(\u001b[0m\u001b[0my_train\u001b[0m\u001b[0;34m,\u001b[0m\u001b[0mY_2\u001b[0m\u001b[0;34m)\u001b[0m\u001b[0;34m\u001b[0m\u001b[0;34m\u001b[0m\u001b[0m\n\u001b[0m\u001b[1;32m      5\u001b[0m \u001b[0mtest\u001b[0m\u001b[0;34m=\u001b[0m\u001b[0mfuncao_dados_originais\u001b[0m\u001b[0;34m(\u001b[0m\u001b[0my_test\u001b[0m\u001b[0;34m,\u001b[0m\u001b[0mY_2\u001b[0m\u001b[0;34m)\u001b[0m\u001b[0;34m\u001b[0m\u001b[0;34m\u001b[0m\u001b[0m\n",
            "\u001b[0;32m<ipython-input-480-c73d0f3aa822>\u001b[0m in \u001b[0;36mfuncao_dados_originais\u001b[0;34m(x, x_old)\u001b[0m\n\u001b[1;32m      3\u001b[0m     \u001b[0mstrings\u001b[0m\u001b[0;34m=\u001b[0m\u001b[0mlist\u001b[0m\u001b[0;34m(\u001b[0m\u001b[0mx\u001b[0m\u001b[0;34m)\u001b[0m\u001b[0;34m\u001b[0m\u001b[0;34m\u001b[0m\u001b[0m\n\u001b[1;32m      4\u001b[0m     \u001b[0;32mfor\u001b[0m \u001b[0mi\u001b[0m \u001b[0;32min\u001b[0m \u001b[0mstrings\u001b[0m\u001b[0;34m:\u001b[0m\u001b[0;34m\u001b[0m\u001b[0;34m\u001b[0m\u001b[0m\n\u001b[0;32m----> 5\u001b[0;31m         \u001b[0mmax_x\u001b[0m\u001b[0;34m=\u001b[0m\u001b[0mx_old\u001b[0m\u001b[0;34m[\u001b[0m\u001b[0mi\u001b[0m\u001b[0;34m]\u001b[0m\u001b[0;34m.\u001b[0m\u001b[0mmax\u001b[0m\u001b[0;34m(\u001b[0m\u001b[0;34m)\u001b[0m\u001b[0;34m\u001b[0m\u001b[0;34m\u001b[0m\u001b[0m\n\u001b[0m\u001b[1;32m      6\u001b[0m         \u001b[0mmin_x\u001b[0m\u001b[0;34m=\u001b[0m\u001b[0mx_old\u001b[0m\u001b[0;34m[\u001b[0m\u001b[0mi\u001b[0m\u001b[0;34m]\u001b[0m\u001b[0;34m.\u001b[0m\u001b[0mmin\u001b[0m\u001b[0;34m(\u001b[0m\u001b[0;34m)\u001b[0m\u001b[0;34m\u001b[0m\u001b[0;34m\u001b[0m\u001b[0m\n\u001b[1;32m      7\u001b[0m         \u001b[0ma\u001b[0m\u001b[0;34m=\u001b[0m\u001b[0;34m(\u001b[0m\u001b[0mmax_x\u001b[0m\u001b[0;34m+\u001b[0m\u001b[0mmin_x\u001b[0m\u001b[0;34m)\u001b[0m\u001b[0;34m/\u001b[0m\u001b[0;36m2\u001b[0m\u001b[0;34m\u001b[0m\u001b[0;34m\u001b[0m\u001b[0m\n",
            "\u001b[0;32m/usr/local/lib/python3.7/dist-packages/pandas/core/series.py\u001b[0m in \u001b[0;36m__getitem__\u001b[0;34m(self, key)\u001b[0m\n\u001b[1;32m    880\u001b[0m \u001b[0;34m\u001b[0m\u001b[0m\n\u001b[1;32m    881\u001b[0m         \u001b[0;32melif\u001b[0m \u001b[0mkey_is_scalar\u001b[0m\u001b[0;34m:\u001b[0m\u001b[0;34m\u001b[0m\u001b[0;34m\u001b[0m\u001b[0m\n\u001b[0;32m--> 882\u001b[0;31m             \u001b[0;32mreturn\u001b[0m \u001b[0mself\u001b[0m\u001b[0;34m.\u001b[0m\u001b[0m_get_value\u001b[0m\u001b[0;34m(\u001b[0m\u001b[0mkey\u001b[0m\u001b[0;34m)\u001b[0m\u001b[0;34m\u001b[0m\u001b[0;34m\u001b[0m\u001b[0m\n\u001b[0m\u001b[1;32m    883\u001b[0m \u001b[0;34m\u001b[0m\u001b[0m\n\u001b[1;32m    884\u001b[0m         \u001b[0;32mif\u001b[0m \u001b[0mis_hashable\u001b[0m\u001b[0;34m(\u001b[0m\u001b[0mkey\u001b[0m\u001b[0;34m)\u001b[0m\u001b[0;34m:\u001b[0m\u001b[0;34m\u001b[0m\u001b[0;34m\u001b[0m\u001b[0m\n",
            "\u001b[0;32m/usr/local/lib/python3.7/dist-packages/pandas/core/series.py\u001b[0m in \u001b[0;36m_get_value\u001b[0;34m(self, label, takeable)\u001b[0m\n\u001b[1;32m    988\u001b[0m \u001b[0;34m\u001b[0m\u001b[0m\n\u001b[1;32m    989\u001b[0m         \u001b[0;31m# Similar to Index.get_value, but we do not fall back to positional\u001b[0m\u001b[0;34m\u001b[0m\u001b[0;34m\u001b[0m\u001b[0;34m\u001b[0m\u001b[0m\n\u001b[0;32m--> 990\u001b[0;31m         \u001b[0mloc\u001b[0m \u001b[0;34m=\u001b[0m \u001b[0mself\u001b[0m\u001b[0;34m.\u001b[0m\u001b[0mindex\u001b[0m\u001b[0;34m.\u001b[0m\u001b[0mget_loc\u001b[0m\u001b[0;34m(\u001b[0m\u001b[0mlabel\u001b[0m\u001b[0;34m)\u001b[0m\u001b[0;34m\u001b[0m\u001b[0;34m\u001b[0m\u001b[0m\n\u001b[0m\u001b[1;32m    991\u001b[0m         \u001b[0;32mreturn\u001b[0m \u001b[0mself\u001b[0m\u001b[0;34m.\u001b[0m\u001b[0mindex\u001b[0m\u001b[0;34m.\u001b[0m\u001b[0m_get_values_for_loc\u001b[0m\u001b[0;34m(\u001b[0m\u001b[0mself\u001b[0m\u001b[0;34m,\u001b[0m \u001b[0mloc\u001b[0m\u001b[0;34m,\u001b[0m \u001b[0mlabel\u001b[0m\u001b[0;34m)\u001b[0m\u001b[0;34m\u001b[0m\u001b[0;34m\u001b[0m\u001b[0m\n\u001b[1;32m    992\u001b[0m \u001b[0;34m\u001b[0m\u001b[0m\n",
            "\u001b[0;32m/usr/local/lib/python3.7/dist-packages/pandas/core/indexes/range.py\u001b[0m in \u001b[0;36mget_loc\u001b[0;34m(self, key, method, tolerance)\u001b[0m\n\u001b[1;32m    356\u001b[0m                 \u001b[0;32mexcept\u001b[0m \u001b[0mValueError\u001b[0m \u001b[0;32mas\u001b[0m \u001b[0merr\u001b[0m\u001b[0;34m:\u001b[0m\u001b[0;34m\u001b[0m\u001b[0;34m\u001b[0m\u001b[0m\n\u001b[1;32m    357\u001b[0m                     \u001b[0;32mraise\u001b[0m \u001b[0mKeyError\u001b[0m\u001b[0;34m(\u001b[0m\u001b[0mkey\u001b[0m\u001b[0;34m)\u001b[0m \u001b[0;32mfrom\u001b[0m \u001b[0merr\u001b[0m\u001b[0;34m\u001b[0m\u001b[0;34m\u001b[0m\u001b[0m\n\u001b[0;32m--> 358\u001b[0;31m             \u001b[0;32mraise\u001b[0m \u001b[0mKeyError\u001b[0m\u001b[0;34m(\u001b[0m\u001b[0mkey\u001b[0m\u001b[0;34m)\u001b[0m\u001b[0;34m\u001b[0m\u001b[0;34m\u001b[0m\u001b[0m\n\u001b[0m\u001b[1;32m    359\u001b[0m         \u001b[0;32mreturn\u001b[0m \u001b[0msuper\u001b[0m\u001b[0;34m(\u001b[0m\u001b[0;34m)\u001b[0m\u001b[0;34m.\u001b[0m\u001b[0mget_loc\u001b[0m\u001b[0;34m(\u001b[0m\u001b[0mkey\u001b[0m\u001b[0;34m,\u001b[0m \u001b[0mmethod\u001b[0m\u001b[0;34m=\u001b[0m\u001b[0mmethod\u001b[0m\u001b[0;34m,\u001b[0m \u001b[0mtolerance\u001b[0m\u001b[0;34m=\u001b[0m\u001b[0mtolerance\u001b[0m\u001b[0;34m)\u001b[0m\u001b[0;34m\u001b[0m\u001b[0;34m\u001b[0m\u001b[0m\n\u001b[1;32m    360\u001b[0m \u001b[0;34m\u001b[0m\u001b[0m\n",
            "\u001b[0;31mKeyError\u001b[0m: -0.7288135593220341"
          ]
        }
      ]
    },
    {
      "cell_type": "code",
      "metadata": {
        "id": "jVmU2YFPHsQN"
      },
      "source": [
        "# Plotar gráfico\n",
        "supplierscore_obs_train=[]\n",
        "supplierscore_calc_train=[]\n",
        "supplierscore_calc_train=y_calc_train['Supplie Score'].copy()\n",
        "supplierscore_obs_train=train['Supplie Score'].copy()\n",
        "fig = plt.figure()\n",
        "ax1 = fig.add_subplot(111)\n",
        "ax1.scatter(supplierscore_obs_test,supplierscore_calc_test, s=20, c='b', marker=\"o\", label='teste')\n",
        "ax1.scatter(supplierscore_obs_train,supplierscore_calc_train, s=20, c='r', marker=\"o\", label='treino')\n",
        "plt.legend(loc='upper left')\n",
        "plt.ylabel('Supplie Score Calculado')\n",
        "plt.xlabel('Supplie Observado')\n",
        "plt.show()"
      ],
      "execution_count": null,
      "outputs": []
    },
    {
      "cell_type": "code",
      "metadata": {
        "id": "wxBmcDODIrIS"
      },
      "source": [
        "mse=mean_squared_error(supplierscore_obs_test,supplierscore_calc_test)\n",
        "print(\"MSE teste=\",mse)\n",
        "R2=r2_score(supplierscore_obs_test,supplierscore_calc_test)\n",
        "print(\"R^2 teste=\",R2)"
      ],
      "execution_count": null,
      "outputs": []
    },
    {
      "cell_type": "code",
      "metadata": {
        "id": "rYT0d96CIrDE"
      },
      "source": [
        "mse=mean_squared_error(supplierscore_obs_train,supplierscore_calc_train)\n",
        "print(\"MSE treino=\",mse)\n",
        "R2=r2_score(supplierscore_obs_train,supplierscore_calc_train)\n",
        "print(\"R^2 treino=\",R2)"
      ],
      "execution_count": null,
      "outputs": []
    }
  ]
}