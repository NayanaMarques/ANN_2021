{
  "nbformat": 4,
  "nbformat_minor": 0,
  "metadata": {
    "colab": {
      "name": "Projeto 1 RN.ipynb",
      "provenance": [],
      "collapsed_sections": [],
      "include_colab_link": true
    },
    "kernelspec": {
      "name": "python3",
      "display_name": "Python 3"
    },
    "language_info": {
      "name": "python"
    }
  },
  "cells": [
    {
      "cell_type": "markdown",
      "metadata": {
        "id": "view-in-github",
        "colab_type": "text"
      },
      "source": [
        "<a href=\"https://colab.research.google.com/github/NayanaMarques/ANN_2021/blob/master/Projeto_Nayana_RN1.ipynb\" target=\"_parent\"><img src=\"https://colab.research.google.com/assets/colab-badge.svg\" alt=\"Open In Colab\"/></a>"
      ]
    },
    {
      "cell_type": "code",
      "metadata": {
        "id": "1Dnn5My4tqNF"
      },
      "source": [
        "#Projeto 1: Redes Neurais - Professor Ubirajara Filho\n",
        "#Nayana G. Marques Silva\n",
        "#Artigo: Comparison of neural network application for fuzzy and ANFIS approaches for multi-criteria decision making problems (2014)\n",
        "#\n",
        "#Definição de bibliotecas\n",
        "#\n",
        "import numpy as np #biblioteca numérica Phyton\n",
        "import pandas as pd #biblioteca para manipulação de arquivos\n",
        "import matplotlib.pyplot as plt #biblioteca para gráficos no Phyton\n",
        "from sklearn.neural_network import MLPRegressor #biblioteca para classificação e regressão (regressão - MLPRegressor)\n",
        "from sklearn.metrics import mean_squared_error #biblioteca para soma dos quadrados dos desvios\n",
        "from sklearn.metrics import r2_score #biblioteca para avaliação do ajuste a partir do coeficiente de determinação\n",
        "from google.colab import files #biblioteca para carregar arquivos no Phyton"
      ],
      "execution_count": 9,
      "outputs": []
    },
    {
      "cell_type": "code",
      "metadata": {
        "id": "Bp-Tx3yfkUhT",
        "colab": {
          "base_uri": "https://localhost:8080/"
        },
        "outputId": "55a81b51-15fc-4137-c110-94927cab09ba"
      },
      "source": [
        "!git clone https://github.com/NayanaMarques/ANN_2021\n",
        "%cd ANN_2021"
      ],
      "execution_count": 10,
      "outputs": [
        {
          "output_type": "stream",
          "text": [
            "Cloning into 'ANN_2021'...\n",
            "remote: Enumerating objects: 46, done.\u001b[K\n",
            "remote: Counting objects:   2% (1/46)\u001b[K\rremote: Counting objects:   4% (2/46)\u001b[K\rremote: Counting objects:   6% (3/46)\u001b[K\rremote: Counting objects:   8% (4/46)\u001b[K\rremote: Counting objects:  10% (5/46)\u001b[K\rremote: Counting objects:  13% (6/46)\u001b[K\rremote: Counting objects:  15% (7/46)\u001b[K\rremote: Counting objects:  17% (8/46)\u001b[K\rremote: Counting objects:  19% (9/46)\u001b[K\rremote: Counting objects:  21% (10/46)\u001b[K\rremote: Counting objects:  23% (11/46)\u001b[K\rremote: Counting objects:  26% (12/46)\u001b[K\rremote: Counting objects:  28% (13/46)\u001b[K\rremote: Counting objects:  30% (14/46)\u001b[K\rremote: Counting objects:  32% (15/46)\u001b[K\rremote: Counting objects:  34% (16/46)\u001b[K\rremote: Counting objects:  36% (17/46)\u001b[K\rremote: Counting objects:  39% (18/46)\u001b[K\rremote: Counting objects:  41% (19/46)\u001b[K\rremote: Counting objects:  43% (20/46)\u001b[K\rremote: Counting objects:  45% (21/46)\u001b[K\rremote: Counting objects:  47% (22/46)\u001b[K\rremote: Counting objects:  50% (23/46)\u001b[K\rremote: Counting objects:  52% (24/46)\u001b[K\rremote: Counting objects:  54% (25/46)\u001b[K\rremote: Counting objects:  56% (26/46)\u001b[K\rremote: Counting objects:  58% (27/46)\u001b[K\rremote: Counting objects:  60% (28/46)\u001b[K\rremote: Counting objects:  63% (29/46)\u001b[K\rremote: Counting objects:  65% (30/46)\u001b[K\rremote: Counting objects:  67% (31/46)\u001b[K\rremote: Counting objects:  69% (32/46)\u001b[K\rremote: Counting objects:  71% (33/46)\u001b[K\rremote: Counting objects:  73% (34/46)\u001b[K\rremote: Counting objects:  76% (35/46)\u001b[K\rremote: Counting objects:  78% (36/46)\u001b[K\rremote: Counting objects:  80% (37/46)\u001b[K\rremote: Counting objects:  82% (38/46)\u001b[K\rremote: Counting objects:  84% (39/46)\u001b[K\rremote: Counting objects:  86% (40/46)\u001b[K\rremote: Counting objects:  89% (41/46)\u001b[K\rremote: Counting objects:  91% (42/46)\u001b[K\rremote: Counting objects:  93% (43/46)\u001b[K\rremote: Counting objects:  95% (44/46)\u001b[K\rremote: Counting objects:  97% (45/46)\u001b[K\rremote: Counting objects: 100% (46/46)\u001b[K\rremote: Counting objects: 100% (46/46), done.\u001b[K\n",
            "remote: Compressing objects:   2% (1/40)\u001b[K\rremote: Compressing objects:   5% (2/40)\u001b[K\rremote: Compressing objects:   7% (3/40)\u001b[K\rremote: Compressing objects:  10% (4/40)\u001b[K\rremote: Compressing objects:  12% (5/40)\u001b[K\rremote: Compressing objects:  15% (6/40)\u001b[K\rremote: Compressing objects:  17% (7/40)\u001b[K\rremote: Compressing objects:  20% (8/40)\u001b[K\rremote: Compressing objects:  22% (9/40)\u001b[K\rremote: Compressing objects:  25% (10/40)\u001b[K\rremote: Compressing objects:  27% (11/40)\u001b[K\rremote: Compressing objects:  30% (12/40)\u001b[K\rremote: Compressing objects:  32% (13/40)\u001b[K\rremote: Compressing objects:  35% (14/40)\u001b[K\rremote: Compressing objects:  37% (15/40)\u001b[K\rremote: Compressing objects:  40% (16/40)\u001b[K\rremote: Compressing objects:  42% (17/40)\u001b[K\rremote: Compressing objects:  45% (18/40)\u001b[K\rremote: Compressing objects:  47% (19/40)\u001b[K\rremote: Compressing objects:  50% (20/40)\u001b[K\rremote: Compressing objects:  52% (21/40)\u001b[K\rremote: Compressing objects:  55% (22/40)\u001b[K\rremote: Compressing objects:  57% (23/40)\u001b[K\rremote: Compressing objects:  60% (24/40)\u001b[K\rremote: Compressing objects:  62% (25/40)\u001b[K\rremote: Compressing objects:  65% (26/40)\u001b[K\rremote: Compressing objects:  67% (27/40)\u001b[K\rremote: Compressing objects:  70% (28/40)\u001b[K\rremote: Compressing objects:  72% (29/40)\u001b[K\rremote: Compressing objects:  75% (30/40)\u001b[K\rremote: Compressing objects:  77% (31/40)\u001b[K\rremote: Compressing objects:  80% (32/40)\u001b[K\rremote: Compressing objects:  82% (33/40)\u001b[K\rremote: Compressing objects:  85% (34/40)\u001b[K\rremote: Compressing objects:  87% (35/40)\u001b[K\rremote: Compressing objects:  90% (36/40)\u001b[K\rremote: Compressing objects:  92% (37/40)\u001b[K\rremote: Compressing objects:  95% (38/40)\u001b[K\rremote: Compressing objects:  97% (39/40)\u001b[K\rremote: Compressing objects: 100% (40/40)\u001b[K\rremote: Compressing objects: 100% (40/40), done.\u001b[K\n",
            "remote: Total 46 (delta 21), reused 9 (delta 3), pack-reused 0\u001b[K\n",
            "Unpacking objects:   2% (1/46)   \rUnpacking objects:   4% (2/46)   \rUnpacking objects:   6% (3/46)   \rUnpacking objects:   8% (4/46)   \rUnpacking objects:  10% (5/46)   \rUnpacking objects:  13% (6/46)   \rUnpacking objects:  15% (7/46)   \rUnpacking objects:  17% (8/46)   \rUnpacking objects:  19% (9/46)   \rUnpacking objects:  21% (10/46)   \rUnpacking objects:  23% (11/46)   \rUnpacking objects:  26% (12/46)   \rUnpacking objects:  28% (13/46)   \rUnpacking objects:  30% (14/46)   \rUnpacking objects:  32% (15/46)   \rUnpacking objects:  34% (16/46)   \rUnpacking objects:  36% (17/46)   \rUnpacking objects:  39% (18/46)   \rUnpacking objects:  41% (19/46)   \rUnpacking objects:  43% (20/46)   \rUnpacking objects:  45% (21/46)   \rUnpacking objects:  47% (22/46)   \rUnpacking objects:  50% (23/46)   \rUnpacking objects:  52% (24/46)   \rUnpacking objects:  54% (25/46)   \rUnpacking objects:  56% (26/46)   \rUnpacking objects:  58% (27/46)   \rUnpacking objects:  60% (28/46)   \rUnpacking objects:  63% (29/46)   \rUnpacking objects:  65% (30/46)   \rUnpacking objects:  67% (31/46)   \rUnpacking objects:  69% (32/46)   \rUnpacking objects:  71% (33/46)   \rUnpacking objects:  73% (34/46)   \rUnpacking objects:  76% (35/46)   \rUnpacking objects:  78% (36/46)   \rUnpacking objects:  80% (37/46)   \rUnpacking objects:  82% (38/46)   \rUnpacking objects:  84% (39/46)   \rUnpacking objects:  86% (40/46)   \rUnpacking objects:  89% (41/46)   \rUnpacking objects:  91% (42/46)   \rUnpacking objects:  93% (43/46)   \rUnpacking objects:  95% (44/46)   \rUnpacking objects:  97% (45/46)   \rUnpacking objects: 100% (46/46)   \rUnpacking objects: 100% (46/46), done.\n",
            "/content/ANN_2021/ANN_2021\n"
          ],
          "name": "stdout"
        }
      ]
    },
    {
      "cell_type": "code",
      "metadata": {
        "id": "mO582cA2kg9y",
        "colab": {
          "base_uri": "https://localhost:8080/"
        },
        "outputId": "331c3b59-f4af-4e31-f423-8432032ab9f9"
      },
      "source": [
        "# leitura dos dados\n",
        "df=pd.read_csv(\"Dados de entrada.csv\",delimiter=';')\n",
        "print(df.head(34))"
      ],
      "execution_count": 11,
      "outputs": [
        {
          "output_type": "stream",
          "text": [
            "    Qual  Deliv  Tech  Price  Loc  Supplier Score Train or Test\n",
            "0    3.0    6.0   3.5    4.0  1.5            0.05      Training\n",
            "1    3.5    3.5   6.0    6.0  1.5            0.05          Test\n",
            "2    3.0    4.0   5.0    4.0  7.0            0.07      Training\n",
            "3    7.0    6.0   4.5    6.0  3.0            0.10          Test\n",
            "4    6.5    6.5   6.5    6.5  5.5            0.11      Training\n",
            "5    5.0    4.0   5.5    4.0  5.0            0.11          Test\n",
            "6    5.0    6.0   6.0    5.5  2.5            0.12      Training\n",
            "7    3.5    5.0   6.0    6.5  3.5            0.13          Test\n",
            "8    5.5    4.5   6.0    4.5  7.0            0.15      Training\n",
            "9    5.0    6.5   3.5    3.5  8.0            0.16          Test\n",
            "10   5.5    6.5   5.5    7.0  5.5            0.19      Training\n",
            "11   5.0    7.0   5.5    7.0  5.5            0.19          Test\n",
            "12   4.0    6.0   7.0    5.0  9.0            0.19      Training\n",
            "13   2.0    6.5   2.0    8.0  4.0            0.22          Test\n",
            "14   5.5    7.5   5.5    3.5  7.5            0.23      Training\n",
            "15   5.0    7.0   9.0    4.5  5.0            0.23          Test\n",
            "16   4.0    4.0   7.0    6.5  6.0            0.25      Training\n",
            "17   6.0    6.5   8.0    4.5  5.0            0.27          Test\n",
            "18   4.0    5.5   7.0    8.0  4.0            0.28      Training\n",
            "19   5.0    6.5   8.0    5.0  6.0            0.30          Test\n",
            "20   7.0    8.0   7.0    4.5  2.5            0.34      Training\n",
            "21   6.5    7.5   6.0    6.5  3.0            0.36          Test\n",
            "22   6.0    7.0   9.0    7.0  8.0            0.42      Training\n",
            "23   7.0    8.0   7.0    6.0  3.0            0.44          Test\n",
            "24   8.5    8.0   7.5    2.5  7.5            0.46      Training\n",
            "25   7.0    6.5   7.0    5.0  8.0            0.47          Test\n",
            "26   6.0    7.0   6.0    5.0  6.0            0.48      Training\n",
            "27   7.5    6.0   7.0    5.5  8.0            0.49          Test\n",
            "28   7.5    7.5   9.0    3.0  4.5            0.59      Training\n",
            "29   8.0    9.0   8.0    4.0  5.0            0.59          Test\n",
            "30   8.5    7.0   6.5    4.0  7.0            0.61      Training\n",
            "31   8.0    9.0   8.0    5.0  4.0            0.61          Test\n",
            "32   8.0    8.0   8.5    6.0  4.0            0.64      Training\n"
          ],
          "name": "stdout"
        }
      ]
    },
    {
      "cell_type": "code",
      "metadata": {
        "id": "vWBZiHc966B8",
        "outputId": "479239c3-a9ff-4ce2-d0ea-43927a4645fd",
        "colab": {
          "base_uri": "https://localhost:8080/",
          "height": 142
        }
      },
      "source": [
        "# Separa as colunas de interesse, imprimindo todas as linhas e as colunas indicadas no Index (lista)\n",
        "Index=[0,1,2,3,4,5]\n",
        "DS=[]\n",
        "DS=df.iloc[:,Index].copy()\n",
        "DS.head(3)"
      ],
      "execution_count": 17,
      "outputs": [
        {
          "output_type": "execute_result",
          "data": {
            "text/html": [
              "<div>\n",
              "<style scoped>\n",
              "    .dataframe tbody tr th:only-of-type {\n",
              "        vertical-align: middle;\n",
              "    }\n",
              "\n",
              "    .dataframe tbody tr th {\n",
              "        vertical-align: top;\n",
              "    }\n",
              "\n",
              "    .dataframe thead th {\n",
              "        text-align: right;\n",
              "    }\n",
              "</style>\n",
              "<table border=\"1\" class=\"dataframe\">\n",
              "  <thead>\n",
              "    <tr style=\"text-align: right;\">\n",
              "      <th></th>\n",
              "      <th>Qual</th>\n",
              "      <th>Deliv</th>\n",
              "      <th>Tech</th>\n",
              "      <th>Price</th>\n",
              "      <th>Loc</th>\n",
              "      <th>Supplier Score</th>\n",
              "    </tr>\n",
              "  </thead>\n",
              "  <tbody>\n",
              "    <tr>\n",
              "      <th>0</th>\n",
              "      <td>3.0</td>\n",
              "      <td>6.0</td>\n",
              "      <td>3.5</td>\n",
              "      <td>4.0</td>\n",
              "      <td>1.5</td>\n",
              "      <td>0.05</td>\n",
              "    </tr>\n",
              "    <tr>\n",
              "      <th>1</th>\n",
              "      <td>3.5</td>\n",
              "      <td>3.5</td>\n",
              "      <td>6.0</td>\n",
              "      <td>6.0</td>\n",
              "      <td>1.5</td>\n",
              "      <td>0.05</td>\n",
              "    </tr>\n",
              "    <tr>\n",
              "      <th>2</th>\n",
              "      <td>3.0</td>\n",
              "      <td>4.0</td>\n",
              "      <td>5.0</td>\n",
              "      <td>4.0</td>\n",
              "      <td>7.0</td>\n",
              "      <td>0.07</td>\n",
              "    </tr>\n",
              "  </tbody>\n",
              "</table>\n",
              "</div>"
            ],
            "text/plain": [
              "   Qual  Deliv  Tech  Price  Loc  Supplier Score\n",
              "0   3.0    6.0   3.5    4.0  1.5            0.05\n",
              "1   3.5    3.5   6.0    6.0  1.5            0.05\n",
              "2   3.0    4.0   5.0    4.0  7.0            0.07"
            ]
          },
          "metadata": {
            "tags": []
          },
          "execution_count": 17
        }
      ]
    },
    {
      "cell_type": "code",
      "metadata": {
        "id": "VjkxaWsk-GIm"
      },
      "source": [
        "# funcao_normatiza_dados - normalizar dados (mesma ordem de grandeza)\n",
        "def funcao_normatiza_dados(x):\n",
        "    strings=list(x)\n",
        "    for i in strings:\n",
        "        max_x=x[i].max() #identifica valor máximo\n",
        "        min_x=x[i].min() #identifica valor mínimo\n",
        "        a=(max_x+min_x)/2\n",
        "        b=(max_x-min_x)/2\n",
        "        x[i]=(x[i]-a)/b\n",
        "    return x"
      ],
      "execution_count": 13,
      "outputs": []
    },
    {
      "cell_type": "code",
      "metadata": {
        "id": "zOJ5OL19_d28"
      },
      "source": [
        "# funcao_dados_originais - retorna os dados a forma original\n",
        "def funcao_dados_originais(x,x_old):\n",
        "    strings=list(x)\n",
        "    for i in strings:\n",
        "        max_x=x_old[i].max()\n",
        "        min_x=x_old[i].min()\n",
        "        a=(max_x+min_x)/2\n",
        "        b=(max_x-min_x)/2\n",
        "        x[i]=x[i]*b+a\n",
        "    return x"
      ],
      "execution_count": 14,
      "outputs": []
    },
    {
      "cell_type": "code",
      "metadata": {
        "id": "9XJbccgHvz-y"
      },
      "source": [
        "# separa os dados em normatizados e originais\n",
        "Dat_Select=[]\n",
        "DAT_OLD=[]\n",
        "DAT_OLD=Dat_Select.copy()\n",
        "DAT=funcao_normatiza_dados(Dat_Select)"
      ],
      "execution_count": 15,
      "outputs": []
    },
    {
      "cell_type": "code",
      "metadata": {
        "id": "OA6ReJQ5ww5A",
        "colab": {
          "base_uri": "https://localhost:8080/",
          "height": 163
        },
        "outputId": "eabffd85-dc53-401f-a7ce-3cb0f959f693"
      },
      "source": [
        "DAT.head(3) "
      ],
      "execution_count": 16,
      "outputs": [
        {
          "output_type": "error",
          "ename": "AttributeError",
          "evalue": "ignored",
          "traceback": [
            "\u001b[0;31m---------------------------------------------------------------------------\u001b[0m",
            "\u001b[0;31mAttributeError\u001b[0m                            Traceback (most recent call last)",
            "\u001b[0;32m<ipython-input-16-8cf861e3f867>\u001b[0m in \u001b[0;36m<module>\u001b[0;34m()\u001b[0m\n\u001b[0;32m----> 1\u001b[0;31m \u001b[0mDAT\u001b[0m\u001b[0;34m.\u001b[0m\u001b[0mhead\u001b[0m\u001b[0;34m(\u001b[0m\u001b[0;36m3\u001b[0m\u001b[0;34m)\u001b[0m\u001b[0;34m\u001b[0m\u001b[0;34m\u001b[0m\u001b[0m\n\u001b[0m",
            "\u001b[0;31mAttributeError\u001b[0m: 'list' object has no attribute 'head'"
          ]
        }
      ]
    }
  ]
}