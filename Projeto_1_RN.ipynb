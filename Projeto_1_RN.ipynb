{
  "nbformat": 4,
  "nbformat_minor": 0,
  "metadata": {
    "colab": {
      "name": "Projeto 1 RN.ipynb",
      "provenance": [],
      "collapsed_sections": [],
      "include_colab_link": true
    },
    "kernelspec": {
      "name": "python3",
      "display_name": "Python 3"
    },
    "language_info": {
      "name": "python"
    }
  },
  "cells": [
    {
      "cell_type": "markdown",
      "metadata": {
        "id": "view-in-github",
        "colab_type": "text"
      },
      "source": [
        "<a href=\"https://colab.research.google.com/github/NayanaMarques/ANN_2021/blob/master/Projeto_1_RN.ipynb\" target=\"_parent\"><img src=\"https://colab.research.google.com/assets/colab-badge.svg\" alt=\"Open In Colab\"/></a>"
      ]
    },
    {
      "cell_type": "code",
      "metadata": {
        "id": "1Dnn5My4tqNF"
      },
      "source": [
        "#Projeto 1: Redes Neurais - Professor Ubirajara Filho\n",
        "#Nayana G. Marques Silva\n",
        "#Artigo: Comparison of neural network application for fuzzy and ANFIS approaches for multi-criteria decision making problems (2014)\n",
        "#\n",
        "#Definição de bibliotecas\n",
        "import numpy as np #biblioteca numérica Phyton\n",
        "import pandas as pd #biblioteca para manipulação de arquivos\n",
        "import matplotlib.pyplot as plt #biblioteca para gráficos no Phyton\n",
        "from sklearn.neural_network import MLPRegressor #biblioteca para classificação e regressão (regressão - MLPRegressor)\n",
        "from sklearn.metrics import mean_squared_error #biblioteca para soma dos quadrados dos desvios\n",
        "from sklearn.metrics import r2_score #biblioteca para avaliação do ajuste a partir do coeficiente de determinação\n",
        "from google.colab import files #biblioteca para carregar arquivos no Phyton\n"
      ],
      "execution_count": 3,
      "outputs": []
    },
    {
      "cell_type": "code",
      "metadata": {
        "id": "Bp-Tx3yfkUhT",
        "colab": {
          "base_uri": "https://localhost:8080/"
        },
        "outputId": "d54d6b18-b85c-450e-95c5-c8a1abf08209"
      },
      "source": [
        "!git clone https://github.com/NayanaMarques/ANN_2021\n",
        "%cd ANN_2021"
      ],
      "execution_count": 5,
      "outputs": [
        {
          "output_type": "stream",
          "text": [
            "Cloning into 'ANN_2021'...\n",
            "remote: Enumerating objects: 12, done.\u001b[K\n",
            "remote: Counting objects: 100% (12/12), done.\u001b[K\n",
            "remote: Compressing objects: 100% (6/6), done.\u001b[K\n",
            "remote: Total 12 (delta 3), reused 9 (delta 3), pack-reused 0\u001b[K\n",
            "Unpacking objects: 100% (12/12), done.\n",
            "/content/ANN_2021\n"
          ],
          "name": "stdout"
        }
      ]
    },
    {
      "cell_type": "code",
      "metadata": {
        "id": "mO582cA2kg9y",
        "colab": {
          "base_uri": "https://localhost:8080/"
        },
        "outputId": "d510cf66-6274-485a-a1f3-365f4bd24d08"
      },
      "source": [
        "# leitura dos dados\n",
        "df=pd.read_csv(\"Dados de entrada.csv\",delimiter=';')\n",
        "print(df.head())"
      ],
      "execution_count": 6,
      "outputs": [
        {
          "output_type": "stream",
          "text": [
            "   Quality  Delivery  Technology  Price  Location  Supplier Score Unnamed: 6\n",
            "0      3.0       6.0         3.5    4.0       1.5            0.05        NaN\n",
            "1      3.5       3.5         6.0    6.0       1.5            0.05          a\n",
            "2      3.0       4.0         5.0    4.0       7.0            0.07        NaN\n",
            "3      7.0       6.0         4.5    6.0       3.0            0.10          a\n",
            "4      6.5       6.5         6.5    6.5       5.5            0.11        NaN\n"
          ],
          "name": "stdout"
        }
      ]
    }
  ]
}