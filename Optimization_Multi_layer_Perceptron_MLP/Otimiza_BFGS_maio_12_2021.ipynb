{
  "nbformat": 4,
  "nbformat_minor": 0,
  "metadata": {
    "colab": {
      "name": "Otimiza_BFGS_maio_12_2021.ipynb",
      "provenance": [],
      "include_colab_link": true
    },
    "kernelspec": {
      "name": "python3",
      "display_name": "Python 3"
    },
    "language_info": {
      "name": "python"
    }
  },
  "cells": [
    {
      "cell_type": "markdown",
      "metadata": {
        "id": "view-in-github",
        "colab_type": "text"
      },
      "source": [
        "<a href=\"https://colab.research.google.com/github/NayanaMarques/ANN_2021/blob/master/Optimization_Multi_layer_Perceptron_MLP/Otimiza_BFGS_maio_12_2021.ipynb\" target=\"_parent\"><img src=\"https://colab.research.google.com/assets/colab-badge.svg\" alt=\"Open In Colab\"/></a>"
      ]
    },
    {
      "cell_type": "code",
      "metadata": {
        "id": "C_2m6MQck36e"
      },
      "source": [
        "from scipy.optimize import minimize #funcao objetivo para definir mínimo"
      ],
      "execution_count": 15,
      "outputs": []
    },
    {
      "cell_type": "code",
      "metadata": {
        "id": "EPkIs-W-lHVL"
      },
      "source": [
        "def fobj(x):\n",
        "  fobj = x[0]**2+ x[1]**2\n",
        "  return fobj"
      ],
      "execution_count": 16,
      "outputs": []
    },
    {
      "cell_type": "code",
      "metadata": {
        "id": "kI_hwjqdlbk2"
      },
      "source": [
        "x0 = [5,-2]\n",
        "Resolver = minimize(fobj, x0, method='BFGS')"
      ],
      "execution_count": 17,
      "outputs": []
    },
    {
      "cell_type": "code",
      "metadata": {
        "id": "ZF5FuFLmmUas",
        "colab": {
          "base_uri": "https://localhost:8080/"
        },
        "outputId": "3c8920b2-6a54-4e3a-f9be-fa66dda007fa"
      },
      "source": [
        "print('x=',Resolver.x)\n",
        "print('fobj =',Resolver.fun)"
      ],
      "execution_count": 18,
      "outputs": [
        {
          "output_type": "stream",
          "text": [
            "x= [-9.24027164e-08 -2.79920312e-07]\n",
            "fobj = 8.689364327150017e-14\n"
          ],
          "name": "stdout"
        }
      ]
    },
    {
      "cell_type": "code",
      "metadata": {
        "id": "flUY-gaFnVln"
      },
      "source": [
        "from scipy.optimize import differential_evolution #resolução de equacao"
      ],
      "execution_count": 19,
      "outputs": []
    },
    {
      "cell_type": "code",
      "metadata": {
        "id": "IGoLZT1cseVM"
      },
      "source": [
        "def fobj(x):\n",
        "  fobj = x[0]**2+ x[1]**2\n",
        "  return fobj"
      ],
      "execution_count": 20,
      "outputs": []
    },
    {
      "cell_type": "code",
      "metadata": {
        "id": "WzBOBB9tsj5C"
      },
      "source": [
        "bounds = [(-50,50),(-50,50)]\n",
        "Resolver = differential_evolution(fobj, bounds, maxiter=200, popsize=50)"
      ],
      "execution_count": 21,
      "outputs": []
    },
    {
      "cell_type": "code",
      "metadata": {
        "id": "8HMg4qACtR4g",
        "outputId": "37fcf667-2185-4493-e24e-09a85ec3bb44",
        "colab": {
          "base_uri": "https://localhost:8080/"
        }
      },
      "source": [
        "print('x=',Resolver.x)\n",
        "print('fobj =',Resolver.fun)"
      ],
      "execution_count": 22,
      "outputs": [
        {
          "output_type": "stream",
          "text": [
            "x= [0. 0.]\n",
            "fobj = 0.0\n"
          ],
          "name": "stdout"
        }
      ]
    }
  ]
}