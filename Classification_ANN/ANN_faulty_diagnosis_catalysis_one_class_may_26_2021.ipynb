{
  "nbformat": 4,
  "nbformat_minor": 0,
  "metadata": {
    "kernelspec": {
      "display_name": "Python 3",
      "language": "python",
      "name": "python3"
    },
    "language_info": {
      "codemirror_mode": {
        "name": "ipython",
        "version": 3
      },
      "file_extension": ".py",
      "mimetype": "text/x-python",
      "name": "python",
      "nbconvert_exporter": "python",
      "pygments_lexer": "ipython3",
      "version": "3.5.4"
    },
    "colab": {
      "name": "ANN_faulty_diagnosis_catalysis_one_class_may_26_2021.ipynb",
      "provenance": [],
      "include_colab_link": true
    }
  },
  "cells": [
    {
      "cell_type": "markdown",
      "metadata": {
        "id": "view-in-github",
        "colab_type": "text"
      },
      "source": [
        "<a href=\"https://colab.research.google.com/github/NayanaMarques/ANN_2021/blob/master/Classification_ANN/ANN_faulty_diagnosis_catalysis_one_class_may_26_2021.ipynb\" target=\"_parent\"><img src=\"https://colab.research.google.com/assets/colab-badge.svg\" alt=\"Open In Colab\"/></a>"
      ]
    },
    {
      "cell_type": "code",
      "metadata": {
        "id": "cF6kzanWQZgh"
      },
      "source": [
        "# bibliotecas usadas\n",
        "import numpy as np\n",
        "import pandas as pd\n",
        "from sklearn import preprocessing\n",
        "from sklearn.neural_network import MLPClassifier\n",
        "from sklearn.metrics import confusion_matrix"
      ],
      "execution_count": 21,
      "outputs": []
    },
    {
      "cell_type": "code",
      "metadata": {
        "id": "xDrq_-S8QZgn",
        "colab": {
          "base_uri": "https://localhost:8080/"
        },
        "outputId": "d03cd886-18e2-4170-cd1a-4e6c96b178d7"
      },
      "source": [
        "!git clone https://github.com/ucfilho/ANN_2021_01\n",
        "%cd ANN_2021_01"
      ],
      "execution_count": 22,
      "outputs": [
        {
          "output_type": "stream",
          "text": [
            "Cloning into 'ANN_2021_01'...\n",
            "remote: Enumerating objects: 291, done.\u001b[K\n",
            "remote: Counting objects: 100% (291/291), done.\u001b[K\n",
            "remote: Compressing objects: 100% (277/277), done.\u001b[K\n",
            "remote: Total 291 (delta 165), reused 15 (delta 8), pack-reused 0\u001b[K\n",
            "Receiving objects: 100% (291/291), 290.12 KiB | 2.69 MiB/s, done.\n",
            "Resolving deltas: 100% (165/165), done.\n",
            "/content/ANN_2021_01/ANN_2021_01\n"
          ],
          "name": "stdout"
        }
      ]
    },
    {
      "cell_type": "code",
      "metadata": {
        "id": "poo2kvF6QZgo",
        "colab": {
          "base_uri": "https://localhost:8080/"
        },
        "outputId": "350a78c4-3de0-4dde-b79c-60ce8c3be2a7"
      },
      "source": [
        "df=pd.read_csv(\"FAULT_DIAGNOSIS_maio_25_2017.txt\",sep='\\t')\n",
        "print(df.head())"
      ],
      "execution_count": 23,
      "outputs": [
        {
          "output_type": "stream",
          "text": [
            "    TF    P  Flow  Y1  Y2  Y3\n",
            "0  400  100   200   0   0   0\n",
            "1  420  100   200   0   0   0\n",
            "2  380  100   200   0   0   0\n",
            "3  400  100   200   0   0   0\n",
            "4  400   90   200   0   0   0\n"
          ],
          "name": "stdout"
        }
      ]
    },
    {
      "cell_type": "code",
      "metadata": {
        "id": "FEvCqRGUQZgr"
      },
      "source": [
        "# separa os dados em normatizados e originais\n",
        "X = df[['TF','P','Flow']]\n"
      ],
      "execution_count": 24,
      "outputs": []
    },
    {
      "cell_type": "code",
      "metadata": {
        "id": "IZsSwWkntoXt",
        "colab": {
          "base_uri": "https://localhost:8080/"
        },
        "outputId": "e948939c-b2f5-4cce-d441-e3fbff5ab9bc"
      },
      "source": [
        "y = df[['Y1','Y2','Y3']]\n",
        "print(y)"
      ],
      "execution_count": 25,
      "outputs": [
        {
          "output_type": "stream",
          "text": [
            "    Y1  Y2  Y3\n",
            "0    0   0   0\n",
            "1    0   0   0\n",
            "2    0   0   0\n",
            "3    0   0   0\n",
            "4    0   0   0\n",
            "5    0   0   0\n",
            "6    0   0   0\n",
            "7    1   0   0\n",
            "8    1   0   0\n",
            "9    1   0   0\n",
            "10   1   0   0\n",
            "11   1   0   0\n",
            "12   0   1   0\n",
            "13   0   1   0\n",
            "14   0   0   1\n",
            "15   0   0   1\n"
          ],
          "name": "stdout"
        }
      ]
    },
    {
      "cell_type": "code",
      "metadata": {
        "id": "ZQe_XwzzlGqX"
      },
      "source": [
        "yy = np.array(y) # transformando dataframe em array\n",
        "y_one = [] # lista em branco\n",
        "for yi in yy: # nao aplicavel caso tenha 2 erros ao mesmo tempo\n",
        "  y1,y2,y3 = yi\n",
        "  if(y1 == 1): # se y1 = 1\n",
        "    y_one.append(1) #append - armazenar o valor em y_one\n",
        "  elif(y2 == 1): # elif y1 diferente de 1 e y2 =1\n",
        "    y_one.append(2)\n",
        "  elif(y3 == 1): # elif y1 diferente de 1, y2 diferente de 1 e y3 =1\n",
        "    y_one.append(3)\n",
        "  else: # nenhum igual a 1 (o que sobrou)\n",
        "    y_one.append(0)"
      ],
      "execution_count": 26,
      "outputs": []
    },
    {
      "cell_type": "code",
      "metadata": {
        "colab": {
          "base_uri": "https://localhost:8080/"
        },
        "id": "0NlP4jh5V1Df",
        "outputId": "0bb851ab-2cea-4051-ea02-c8f852ed48f5"
      },
      "source": [
        "yy"
      ],
      "execution_count": 27,
      "outputs": [
        {
          "output_type": "execute_result",
          "data": {
            "text/plain": [
              "array([[0, 0, 0],\n",
              "       [0, 0, 0],\n",
              "       [0, 0, 0],\n",
              "       [0, 0, 0],\n",
              "       [0, 0, 0],\n",
              "       [0, 0, 0],\n",
              "       [0, 0, 0],\n",
              "       [1, 0, 0],\n",
              "       [1, 0, 0],\n",
              "       [1, 0, 0],\n",
              "       [1, 0, 0],\n",
              "       [1, 0, 0],\n",
              "       [0, 1, 0],\n",
              "       [0, 1, 0],\n",
              "       [0, 0, 1],\n",
              "       [0, 0, 1]])"
            ]
          },
          "metadata": {
            "tags": []
          },
          "execution_count": 27
        }
      ]
    },
    {
      "cell_type": "code",
      "metadata": {
        "colab": {
          "base_uri": "https://localhost:8080/"
        },
        "id": "2iA6VdZ9mFKT",
        "outputId": "5412e02a-b40a-4dd5-f4e9-77ee862feef4"
      },
      "source": [
        "y_one # qual erro para cada caso? 0 - sem erro, ou erro 1, 2 ou 3"
      ],
      "execution_count": 28,
      "outputs": [
        {
          "output_type": "execute_result",
          "data": {
            "text/plain": [
              "[0, 0, 0, 0, 0, 0, 0, 1, 1, 1, 1, 1, 2, 2, 3, 3]"
            ]
          },
          "metadata": {
            "tags": []
          },
          "execution_count": 28
        }
      ]
    },
    {
      "cell_type": "code",
      "metadata": {
        "id": "9_In7Roxklf-"
      },
      "source": [
        "# X_train, X_test, y_train, y_test = train_test_split(X,y,test_size=0.10, shuffle=True, random_state=3)\n",
        "# nao foram utilizados dados para teste pois são poucos dados"
      ],
      "execution_count": 29,
      "outputs": []
    },
    {
      "cell_type": "code",
      "metadata": {
        "id": "W1D-K3kZfdKC"
      },
      "source": [
        "scaler_X = preprocessing.MinMaxScaler((-1,1)).fit(X)\n",
        "# scaler_Y = preprocessing.MinMaxScaler((-1,1)).fit(y)"
      ],
      "execution_count": 30,
      "outputs": []
    },
    {
      "cell_type": "code",
      "metadata": {
        "id": "n79c1vardcuS"
      },
      "source": [
        "X_train = X.copy()\n",
        "y_train = y_one.copy()\n",
        "X_train = scaler_X.transform(X_train)\n",
        "#y_train = scaler_Y.transform(y_train)"
      ],
      "execution_count": 31,
      "outputs": []
    },
    {
      "cell_type": "code",
      "metadata": {
        "id": "a7xdJHoKhCUA",
        "colab": {
          "base_uri": "https://localhost:8080/",
          "height": 35
        },
        "outputId": "626bc9fd-e980-4bf8-d249-f1f76966c18d"
      },
      "source": [
        "'''\n",
        "X_train = scaler_X.transform(X_train)\n",
        "X_test = scaler_X.transform(X_test)\n",
        "y_train = scaler_Y.transform(y_train)\n",
        "y_test = scaler_Y.transform(y_test)\n",
        "'''"
      ],
      "execution_count": 32,
      "outputs": [
        {
          "output_type": "execute_result",
          "data": {
            "application/vnd.google.colaboratory.intrinsic+json": {
              "type": "string"
            },
            "text/plain": [
              "'\\nX_train = scaler_X.transform(X_train)\\nX_test = scaler_X.transform(X_test)\\ny_train = scaler_Y.transform(y_train)\\ny_test = scaler_Y.transform(y_test)\\n'"
            ]
          },
          "metadata": {
            "tags": []
          },
          "execution_count": 32
        }
      ]
    },
    {
      "cell_type": "code",
      "metadata": {
        "id": "ohPsTk19YUaR"
      },
      "source": [
        "# define a rede neural \n",
        "model = MLPClassifier(solver='lbfgs',activation='tanh',alpha=1e-5,hidden_layer_sizes=(15),\n",
        "                     random_state=1)"
      ],
      "execution_count": 33,
      "outputs": []
    },
    {
      "cell_type": "code",
      "metadata": {
        "colab": {
          "base_uri": "https://localhost:8080/"
        },
        "id": "hYNjZoGaYb1k",
        "outputId": "31923cf9-4d48-4d7d-f9b1-f38fc07a59c1"
      },
      "source": [
        "# treina a rede neural\n",
        "model.fit(X_train, y_train)"
      ],
      "execution_count": 34,
      "outputs": [
        {
          "output_type": "execute_result",
          "data": {
            "text/plain": [
              "MLPClassifier(activation='tanh', alpha=1e-05, batch_size='auto', beta_1=0.9,\n",
              "              beta_2=0.999, early_stopping=False, epsilon=1e-08,\n",
              "              hidden_layer_sizes=15, learning_rate='constant',\n",
              "              learning_rate_init=0.001, max_fun=15000, max_iter=200,\n",
              "              momentum=0.9, n_iter_no_change=10, nesterovs_momentum=True,\n",
              "              power_t=0.5, random_state=1, shuffle=True, solver='lbfgs',\n",
              "              tol=0.0001, validation_fraction=0.1, verbose=False,\n",
              "              warm_start=False)"
            ]
          },
          "metadata": {
            "tags": []
          },
          "execution_count": 34
        }
      ]
    },
    {
      "cell_type": "code",
      "metadata": {
        "id": "qF4fxd33YjWF"
      },
      "source": [
        "# usa a rede neural treina em calculos para treino e teste\n",
        "y_calc_train=model.predict(X_train)\n",
        "# y_calc_test=model.predict(X_test)"
      ],
      "execution_count": 35,
      "outputs": []
    },
    {
      "cell_type": "code",
      "metadata": {
        "colab": {
          "base_uri": "https://localhost:8080/"
        },
        "id": "fjTXAKSnb1L8",
        "outputId": "40439f17-c70a-4a2a-c997-d094cc3e73c3"
      },
      "source": [
        "y_train"
      ],
      "execution_count": 36,
      "outputs": [
        {
          "output_type": "execute_result",
          "data": {
            "text/plain": [
              "[0, 0, 0, 0, 0, 0, 0, 1, 1, 1, 1, 1, 2, 2, 3, 3]"
            ]
          },
          "metadata": {
            "tags": []
          },
          "execution_count": 36
        }
      ]
    },
    {
      "cell_type": "code",
      "metadata": {
        "colab": {
          "base_uri": "https://localhost:8080/"
        },
        "id": "Y-xRoqNPcG5x",
        "outputId": "3b67b638-169e-445f-f66f-0453c6a55c0f"
      },
      "source": [
        "y_calc_train"
      ],
      "execution_count": 37,
      "outputs": [
        {
          "output_type": "execute_result",
          "data": {
            "text/plain": [
              "array([0, 0, 0, 0, 0, 0, 0, 1, 1, 1, 1, 1, 2, 2, 3, 3])"
            ]
          },
          "metadata": {
            "tags": []
          },
          "execution_count": 37
        }
      ]
    },
    {
      "cell_type": "code",
      "metadata": {
        "colab": {
          "base_uri": "https://localhost:8080/"
        },
        "id": "zaCrYBieSzRE",
        "outputId": "17661992-2271-4b64-ab06-4fbee40b3058"
      },
      "source": [
        "X_train"
      ],
      "execution_count": 38,
      "outputs": [
        {
          "output_type": "execute_result",
          "data": {
            "text/plain": [
              "array([[-0.2       ,  1.        , -0.42857143],\n",
              "       [-0.04      ,  1.        , -0.42857143],\n",
              "       [-0.36      ,  1.        , -0.42857143],\n",
              "       [-0.2       ,  1.        , -0.42857143],\n",
              "       [-0.2       ,  0.        , -0.42857143],\n",
              "       [-0.2       ,  1.        ,  0.14285714],\n",
              "       [-0.2       ,  1.        , -1.        ],\n",
              "       [-1.        ,  1.        , -0.42857143],\n",
              "       [-0.8       ,  0.        , -0.42857143],\n",
              "       [-0.6       , -1.        , -0.42857143],\n",
              "       [-0.44      ,  1.        , -0.42857143],\n",
              "       [-0.36      ,  1.        , -1.        ],\n",
              "       [-0.2       ,  1.        ,  1.        ],\n",
              "       [-0.2       ,  1.        ,  0.42857143],\n",
              "       [ 1.        ,  1.        , -0.42857143],\n",
              "       [ 0.8       ,  1.        , -1.        ]])"
            ]
          },
          "metadata": {
            "tags": []
          },
          "execution_count": 38
        }
      ]
    },
    {
      "cell_type": "code",
      "metadata": {
        "colab": {
          "base_uri": "https://localhost:8080/"
        },
        "id": "gStOIYgNS_BA",
        "outputId": "2b6fd45f-5384-4858-90df-4e23771b90bc"
      },
      "source": [
        "X_exemplo =pd.DataFrame({'TF':[300],'P':[90],'Flow':[300]})\n",
        "# X_exemplo =pd.DataFrame({'TF':[400],'P':[100],'Flow':[200]})\n",
        "X_exemplo =  scaler_X.transform(X_exemplo)\n",
        "y_exemplo=model.predict(X_exemplo)\n",
        "print(y_exemplo)"
      ],
      "execution_count": 39,
      "outputs": [
        {
          "output_type": "stream",
          "text": [
            "[1]\n"
          ],
          "name": "stdout"
        }
      ]
    },
    {
      "cell_type": "code",
      "metadata": {
        "id": "3Y-MawiVorUZ"
      },
      "source": [
        "df = pd.DataFrame({'true':y_train,'calc':y_calc_train})\n",
        "df = pd.crosstab(df['true'],df['calc'])"
      ],
      "execution_count": 40,
      "outputs": []
    },
    {
      "cell_type": "code",
      "metadata": {
        "colab": {
          "base_uri": "https://localhost:8080/",
          "height": 204
        },
        "id": "uPofe1JipMpT",
        "outputId": "8211c669-371f-475f-b6ca-335b3b837e00"
      },
      "source": [
        "df"
      ],
      "execution_count": 41,
      "outputs": [
        {
          "output_type": "execute_result",
          "data": {
            "text/html": [
              "<div>\n",
              "<style scoped>\n",
              "    .dataframe tbody tr th:only-of-type {\n",
              "        vertical-align: middle;\n",
              "    }\n",
              "\n",
              "    .dataframe tbody tr th {\n",
              "        vertical-align: top;\n",
              "    }\n",
              "\n",
              "    .dataframe thead th {\n",
              "        text-align: right;\n",
              "    }\n",
              "</style>\n",
              "<table border=\"1\" class=\"dataframe\">\n",
              "  <thead>\n",
              "    <tr style=\"text-align: right;\">\n",
              "      <th>calc</th>\n",
              "      <th>0</th>\n",
              "      <th>1</th>\n",
              "      <th>2</th>\n",
              "      <th>3</th>\n",
              "    </tr>\n",
              "    <tr>\n",
              "      <th>true</th>\n",
              "      <th></th>\n",
              "      <th></th>\n",
              "      <th></th>\n",
              "      <th></th>\n",
              "    </tr>\n",
              "  </thead>\n",
              "  <tbody>\n",
              "    <tr>\n",
              "      <th>0</th>\n",
              "      <td>7</td>\n",
              "      <td>0</td>\n",
              "      <td>0</td>\n",
              "      <td>0</td>\n",
              "    </tr>\n",
              "    <tr>\n",
              "      <th>1</th>\n",
              "      <td>0</td>\n",
              "      <td>5</td>\n",
              "      <td>0</td>\n",
              "      <td>0</td>\n",
              "    </tr>\n",
              "    <tr>\n",
              "      <th>2</th>\n",
              "      <td>0</td>\n",
              "      <td>0</td>\n",
              "      <td>2</td>\n",
              "      <td>0</td>\n",
              "    </tr>\n",
              "    <tr>\n",
              "      <th>3</th>\n",
              "      <td>0</td>\n",
              "      <td>0</td>\n",
              "      <td>0</td>\n",
              "      <td>2</td>\n",
              "    </tr>\n",
              "  </tbody>\n",
              "</table>\n",
              "</div>"
            ],
            "text/plain": [
              "calc  0  1  2  3\n",
              "true            \n",
              "0     7  0  0  0\n",
              "1     0  5  0  0\n",
              "2     0  0  2  0\n",
              "3     0  0  0  2"
            ]
          },
          "metadata": {
            "tags": []
          },
          "execution_count": 41
        }
      ]
    }
  ]
}