{
  "nbformat": 4,
  "nbformat_minor": 0,
  "metadata": {
    "kernelspec": {
      "display_name": "Python 3",
      "language": "python",
      "name": "python3"
    },
    "language_info": {
      "codemirror_mode": {
        "name": "ipython",
        "version": 3
      },
      "file_extension": ".py",
      "mimetype": "text/x-python",
      "name": "python",
      "nbconvert_exporter": "python",
      "pygments_lexer": "ipython3",
      "version": "3.5.4"
    },
    "colab": {
      "name": "ANN_faulty_diagnosis_catalysis_may_26_2021.ipynb",
      "provenance": [],
      "include_colab_link": true
    }
  },
  "cells": [
    {
      "cell_type": "markdown",
      "metadata": {
        "id": "view-in-github",
        "colab_type": "text"
      },
      "source": [
        "<a href=\"https://colab.research.google.com/github/NayanaMarques/ANN_2021/blob/master/Classification_ANN/ANN_faulty_diagnosis_catalysis_may_26_2021.ipynb\" target=\"_parent\"><img src=\"https://colab.research.google.com/assets/colab-badge.svg\" alt=\"Open In Colab\"/></a>"
      ]
    },
    {
      "cell_type": "code",
      "metadata": {
        "id": "cF6kzanWQZgh"
      },
      "source": [
        "# objetivo: entrar com os dados de temperatura, pressão e vazão para verificar se haverá falha\n",
        "# bibliotecas usadas\n",
        "import numpy as np\n",
        "import pandas as pd\n",
        "from sklearn import  preprocessing # escalonar\n",
        "from sklearn.neural_network import MLPClassifier # rede neural classificação\n",
        "from sklearn.metrics import confusion_matrix # nao foi utilizado"
      ],
      "execution_count": 33,
      "outputs": []
    },
    {
      "cell_type": "code",
      "metadata": {
        "id": "xDrq_-S8QZgn",
        "colab": {
          "base_uri": "https://localhost:8080/"
        },
        "outputId": "7e62f08b-2e92-4765-b831-a752849a18cd"
      },
      "source": [
        "!git clone https://github.com/ucfilho/ANN_2021_01\n",
        "%cd ANN_2021_01"
      ],
      "execution_count": 34,
      "outputs": [
        {
          "output_type": "stream",
          "text": [
            "Cloning into 'ANN_2021_01'...\n",
            "remote: Enumerating objects: 291, done.\u001b[K\n",
            "remote: Counting objects: 100% (291/291), done.\u001b[K\n",
            "remote: Compressing objects: 100% (285/285), done.\u001b[K\n",
            "remote: Total 291 (delta 164), reused 0 (delta 0), pack-reused 0\u001b[K\n",
            "Receiving objects: 100% (291/291), 292.18 KiB | 4.36 MiB/s, done.\n",
            "Resolving deltas: 100% (164/164), done.\n",
            "/content/ANN_2021_01/ANN_2021_01/ANN_2021_01\n"
          ],
          "name": "stdout"
        }
      ]
    },
    {
      "cell_type": "code",
      "metadata": {
        "id": "poo2kvF6QZgo",
        "colab": {
          "base_uri": "https://localhost:8080/"
        },
        "outputId": "13409c57-490d-40aa-bb7a-85b080af43f5"
      },
      "source": [
        "# temperatura / pressão / vazão / fallhas: Y1 - Y2 - Y3 (0 - 0 - 0 --> sem falha)\n",
        "df=pd.read_csv(\"FAULT_DIAGNOSIS_maio_25_2017.txt\",sep='\\t')\n",
        "print(df.head())"
      ],
      "execution_count": 35,
      "outputs": [
        {
          "output_type": "stream",
          "text": [
            "    TF    P  Flow  Y1  Y2  Y3\n",
            "0  400  100   200   0   0   0\n",
            "1  420  100   200   0   0   0\n",
            "2  380  100   200   0   0   0\n",
            "3  400  100   200   0   0   0\n",
            "4  400   90   200   0   0   0\n"
          ],
          "name": "stdout"
        }
      ]
    },
    {
      "cell_type": "code",
      "metadata": {
        "id": "FEvCqRGUQZgr"
      },
      "source": [
        "# separa os dados em normatizados e originais\n",
        "X = df[['TF','P','Flow']]\n"
      ],
      "execution_count": 36,
      "outputs": []
    },
    {
      "cell_type": "code",
      "metadata": {
        "id": "IZsSwWkntoXt",
        "colab": {
          "base_uri": "https://localhost:8080/"
        },
        "outputId": "3f7b09f2-a43e-4a9a-eb9f-1da63daa676a"
      },
      "source": [
        "y = df[['Y1','Y2','Y3']]\n",
        "print(y)"
      ],
      "execution_count": 37,
      "outputs": [
        {
          "output_type": "stream",
          "text": [
            "    Y1  Y2  Y3\n",
            "0    0   0   0\n",
            "1    0   0   0\n",
            "2    0   0   0\n",
            "3    0   0   0\n",
            "4    0   0   0\n",
            "5    0   0   0\n",
            "6    0   0   0\n",
            "7    1   0   0\n",
            "8    1   0   0\n",
            "9    1   0   0\n",
            "10   1   0   0\n",
            "11   1   0   0\n",
            "12   0   1   0\n",
            "13   0   1   0\n",
            "14   0   0   1\n",
            "15   0   0   1\n"
          ],
          "name": "stdout"
        }
      ]
    },
    {
      "cell_type": "code",
      "metadata": {
        "id": "9_In7Roxklf-"
      },
      "source": [
        "# X_train, X_test, y_train, y_test = train_test_split(X,y,test_size=0.10, shuffle=True, random_state=3)"
      ],
      "execution_count": 38,
      "outputs": []
    },
    {
      "cell_type": "code",
      "metadata": {
        "id": "W1D-K3kZfdKC"
      },
      "source": [
        "scaler_X = preprocessing.MinMaxScaler((-1,1)).fit(X)\n",
        "# scaler_Y = preprocessing.MinMaxScaler((-1,1)).fit(y)"
      ],
      "execution_count": 39,
      "outputs": []
    },
    {
      "cell_type": "code",
      "metadata": {
        "id": "n79c1vardcuS"
      },
      "source": [
        "# nao foi utilizado test pois são poucos dados\n",
        "X_train = X.copy()\n",
        "y_train = y.copy()\n",
        "X_train = scaler_X.transform(X_train)\n",
        "#y_train = scaler_Y.transform(y_train)"
      ],
      "execution_count": 40,
      "outputs": []
    },
    {
      "cell_type": "code",
      "metadata": {
        "id": "a7xdJHoKhCUA",
        "colab": {
          "base_uri": "https://localhost:8080/",
          "height": 35
        },
        "outputId": "07db6957-fee5-4541-a511-bc4804eeb5ea"
      },
      "source": [
        "'''\n",
        "X_train = scaler_X.transform(X_train)\n",
        "X_test = scaler_X.transform(X_test)\n",
        "y_train = scaler_Y.transform(y_train)\n",
        "y_test = scaler_Y.transform(y_test)\n",
        "'''"
      ],
      "execution_count": 41,
      "outputs": [
        {
          "output_type": "execute_result",
          "data": {
            "application/vnd.google.colaboratory.intrinsic+json": {
              "type": "string"
            },
            "text/plain": [
              "'\\nX_train = scaler_X.transform(X_train)\\nX_test = scaler_X.transform(X_test)\\ny_train = scaler_Y.transform(y_train)\\ny_test = scaler_Y.transform(y_test)\\n'"
            ]
          },
          "metadata": {
            "tags": []
          },
          "execution_count": 41
        }
      ]
    },
    {
      "cell_type": "code",
      "metadata": {
        "id": "ohPsTk19YUaR"
      },
      "source": [
        "# define a rede neural \n",
        "model = MLPClassifier(solver='lbfgs',activation='tanh',alpha=1e-5,hidden_layer_sizes=(15),\n",
        "                     random_state=1)"
      ],
      "execution_count": 42,
      "outputs": []
    },
    {
      "cell_type": "code",
      "metadata": {
        "colab": {
          "base_uri": "https://localhost:8080/"
        },
        "id": "hYNjZoGaYb1k",
        "outputId": "932d9116-3b81-4c4f-a63e-45e15abf0d41"
      },
      "source": [
        "# treina a rede neural\n",
        "model.fit(X_train, y_train)"
      ],
      "execution_count": 43,
      "outputs": [
        {
          "output_type": "execute_result",
          "data": {
            "text/plain": [
              "MLPClassifier(activation='tanh', alpha=1e-05, batch_size='auto', beta_1=0.9,\n",
              "              beta_2=0.999, early_stopping=False, epsilon=1e-08,\n",
              "              hidden_layer_sizes=15, learning_rate='constant',\n",
              "              learning_rate_init=0.001, max_fun=15000, max_iter=200,\n",
              "              momentum=0.9, n_iter_no_change=10, nesterovs_momentum=True,\n",
              "              power_t=0.5, random_state=1, shuffle=True, solver='lbfgs',\n",
              "              tol=0.0001, validation_fraction=0.1, verbose=False,\n",
              "              warm_start=False)"
            ]
          },
          "metadata": {
            "tags": []
          },
          "execution_count": 43
        }
      ]
    },
    {
      "cell_type": "code",
      "metadata": {
        "id": "qF4fxd33YjWF"
      },
      "source": [
        "# usa a rede neural treina em calculos para treino e teste\n",
        "y_calc_train=model.predict(X_train)\n",
        "# y_calc_test=model.predict(X_test)"
      ],
      "execution_count": 44,
      "outputs": []
    },
    {
      "cell_type": "code",
      "metadata": {
        "colab": {
          "base_uri": "https://localhost:8080/",
          "height": 545
        },
        "id": "fjTXAKSnb1L8",
        "outputId": "523d41f4-cb28-450e-e657-f6b60239d71e"
      },
      "source": [
        "y_train"
      ],
      "execution_count": 45,
      "outputs": [
        {
          "output_type": "execute_result",
          "data": {
            "text/html": [
              "<div>\n",
              "<style scoped>\n",
              "    .dataframe tbody tr th:only-of-type {\n",
              "        vertical-align: middle;\n",
              "    }\n",
              "\n",
              "    .dataframe tbody tr th {\n",
              "        vertical-align: top;\n",
              "    }\n",
              "\n",
              "    .dataframe thead th {\n",
              "        text-align: right;\n",
              "    }\n",
              "</style>\n",
              "<table border=\"1\" class=\"dataframe\">\n",
              "  <thead>\n",
              "    <tr style=\"text-align: right;\">\n",
              "      <th></th>\n",
              "      <th>Y1</th>\n",
              "      <th>Y2</th>\n",
              "      <th>Y3</th>\n",
              "    </tr>\n",
              "  </thead>\n",
              "  <tbody>\n",
              "    <tr>\n",
              "      <th>0</th>\n",
              "      <td>0</td>\n",
              "      <td>0</td>\n",
              "      <td>0</td>\n",
              "    </tr>\n",
              "    <tr>\n",
              "      <th>1</th>\n",
              "      <td>0</td>\n",
              "      <td>0</td>\n",
              "      <td>0</td>\n",
              "    </tr>\n",
              "    <tr>\n",
              "      <th>2</th>\n",
              "      <td>0</td>\n",
              "      <td>0</td>\n",
              "      <td>0</td>\n",
              "    </tr>\n",
              "    <tr>\n",
              "      <th>3</th>\n",
              "      <td>0</td>\n",
              "      <td>0</td>\n",
              "      <td>0</td>\n",
              "    </tr>\n",
              "    <tr>\n",
              "      <th>4</th>\n",
              "      <td>0</td>\n",
              "      <td>0</td>\n",
              "      <td>0</td>\n",
              "    </tr>\n",
              "    <tr>\n",
              "      <th>5</th>\n",
              "      <td>0</td>\n",
              "      <td>0</td>\n",
              "      <td>0</td>\n",
              "    </tr>\n",
              "    <tr>\n",
              "      <th>6</th>\n",
              "      <td>0</td>\n",
              "      <td>0</td>\n",
              "      <td>0</td>\n",
              "    </tr>\n",
              "    <tr>\n",
              "      <th>7</th>\n",
              "      <td>1</td>\n",
              "      <td>0</td>\n",
              "      <td>0</td>\n",
              "    </tr>\n",
              "    <tr>\n",
              "      <th>8</th>\n",
              "      <td>1</td>\n",
              "      <td>0</td>\n",
              "      <td>0</td>\n",
              "    </tr>\n",
              "    <tr>\n",
              "      <th>9</th>\n",
              "      <td>1</td>\n",
              "      <td>0</td>\n",
              "      <td>0</td>\n",
              "    </tr>\n",
              "    <tr>\n",
              "      <th>10</th>\n",
              "      <td>1</td>\n",
              "      <td>0</td>\n",
              "      <td>0</td>\n",
              "    </tr>\n",
              "    <tr>\n",
              "      <th>11</th>\n",
              "      <td>1</td>\n",
              "      <td>0</td>\n",
              "      <td>0</td>\n",
              "    </tr>\n",
              "    <tr>\n",
              "      <th>12</th>\n",
              "      <td>0</td>\n",
              "      <td>1</td>\n",
              "      <td>0</td>\n",
              "    </tr>\n",
              "    <tr>\n",
              "      <th>13</th>\n",
              "      <td>0</td>\n",
              "      <td>1</td>\n",
              "      <td>0</td>\n",
              "    </tr>\n",
              "    <tr>\n",
              "      <th>14</th>\n",
              "      <td>0</td>\n",
              "      <td>0</td>\n",
              "      <td>1</td>\n",
              "    </tr>\n",
              "    <tr>\n",
              "      <th>15</th>\n",
              "      <td>0</td>\n",
              "      <td>0</td>\n",
              "      <td>1</td>\n",
              "    </tr>\n",
              "  </tbody>\n",
              "</table>\n",
              "</div>"
            ],
            "text/plain": [
              "    Y1  Y2  Y3\n",
              "0    0   0   0\n",
              "1    0   0   0\n",
              "2    0   0   0\n",
              "3    0   0   0\n",
              "4    0   0   0\n",
              "5    0   0   0\n",
              "6    0   0   0\n",
              "7    1   0   0\n",
              "8    1   0   0\n",
              "9    1   0   0\n",
              "10   1   0   0\n",
              "11   1   0   0\n",
              "12   0   1   0\n",
              "13   0   1   0\n",
              "14   0   0   1\n",
              "15   0   0   1"
            ]
          },
          "metadata": {
            "tags": []
          },
          "execution_count": 45
        }
      ]
    },
    {
      "cell_type": "code",
      "metadata": {
        "colab": {
          "base_uri": "https://localhost:8080/"
        },
        "id": "Y-xRoqNPcG5x",
        "outputId": "c348db64-79e0-42ee-a3a4-5812e5467d7a"
      },
      "source": [
        "y_calc_train"
      ],
      "execution_count": 46,
      "outputs": [
        {
          "output_type": "execute_result",
          "data": {
            "text/plain": [
              "array([[0, 0, 0],\n",
              "       [0, 0, 0],\n",
              "       [0, 0, 0],\n",
              "       [0, 0, 0],\n",
              "       [0, 0, 0],\n",
              "       [0, 0, 0],\n",
              "       [0, 0, 0],\n",
              "       [1, 0, 0],\n",
              "       [1, 0, 0],\n",
              "       [1, 0, 0],\n",
              "       [1, 0, 0],\n",
              "       [1, 0, 0],\n",
              "       [0, 1, 0],\n",
              "       [0, 1, 0],\n",
              "       [0, 0, 1],\n",
              "       [0, 0, 1]])"
            ]
          },
          "metadata": {
            "tags": []
          },
          "execution_count": 46
        }
      ]
    },
    {
      "cell_type": "code",
      "metadata": {
        "colab": {
          "base_uri": "https://localhost:8080/"
        },
        "id": "zaCrYBieSzRE",
        "outputId": "4ac9b0f9-38e2-4e10-cf08-4b8ee0675f98"
      },
      "source": [
        "X_train"
      ],
      "execution_count": 47,
      "outputs": [
        {
          "output_type": "execute_result",
          "data": {
            "text/plain": [
              "array([[-0.2       ,  1.        , -0.42857143],\n",
              "       [-0.04      ,  1.        , -0.42857143],\n",
              "       [-0.36      ,  1.        , -0.42857143],\n",
              "       [-0.2       ,  1.        , -0.42857143],\n",
              "       [-0.2       ,  0.        , -0.42857143],\n",
              "       [-0.2       ,  1.        ,  0.14285714],\n",
              "       [-0.2       ,  1.        , -1.        ],\n",
              "       [-1.        ,  1.        , -0.42857143],\n",
              "       [-0.8       ,  0.        , -0.42857143],\n",
              "       [-0.6       , -1.        , -0.42857143],\n",
              "       [-0.44      ,  1.        , -0.42857143],\n",
              "       [-0.36      ,  1.        , -1.        ],\n",
              "       [-0.2       ,  1.        ,  1.        ],\n",
              "       [-0.2       ,  1.        ,  0.42857143],\n",
              "       [ 1.        ,  1.        , -0.42857143],\n",
              "       [ 0.8       ,  1.        , -1.        ]])"
            ]
          },
          "metadata": {
            "tags": []
          },
          "execution_count": 47
        }
      ]
    },
    {
      "cell_type": "code",
      "metadata": {
        "colab": {
          "base_uri": "https://localhost:8080/"
        },
        "id": "gStOIYgNS_BA",
        "outputId": "a8a631d3-23b1-4d97-8d14-4c6b8510df1d"
      },
      "source": [
        "# considerando uma temperatura de 300, pressão de 90 e vazão de 300, qual resultado?\n",
        "X_exemplo =pd.DataFrame({'TF':[300],'P':[90],'Flow':[300]}) \n",
        "# X_exemplo =pd.DataFrame({'TF':[400],'P':[100],'Flow':[200]})\n",
        "X_exemplo =  scaler_X.transform(X_exemplo)\n",
        "y_exemplo=model.predict(X_exemplo)\n",
        "print(y_exemplo)"
      ],
      "execution_count": 48,
      "outputs": [
        {
          "output_type": "stream",
          "text": [
            "[[0 0 0]]\n"
          ],
          "name": "stdout"
        }
      ]
    }
  ]
}