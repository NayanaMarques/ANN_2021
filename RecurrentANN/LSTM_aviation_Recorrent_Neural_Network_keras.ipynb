{
  "nbformat": 4,
  "nbformat_minor": 0,
  "metadata": {
    "colab": {
      "name": "LSTM_aviation_Recorrent_Neural_Network_keras.ipynb",
      "provenance": [],
      "include_colab_link": true
    },
    "kernelspec": {
      "name": "python3",
      "display_name": "Python 3"
    },
    "language_info": {
      "name": "python"
    },
    "accelerator": "GPU"
  },
  "cells": [
    {
      "cell_type": "markdown",
      "metadata": {
        "id": "view-in-github",
        "colab_type": "text"
      },
      "source": [
        "<a href=\"https://colab.research.google.com/github/NayanaMarques/ANN_2021/blob/master/RecurrentANN/LSTM_aviation_Recorrent_Neural_Network_keras.ipynb\" target=\"_parent\"><img src=\"https://colab.research.google.com/assets/colab-badge.svg\" alt=\"Open In Colab\"/></a>"
      ]
    },
    {
      "cell_type": "code",
      "metadata": {
        "id": "K_jJAZ_6N936"
      },
      "source": [
        "import numpy as np\n",
        "import pandas as pd\n",
        "import matplotlib.pyplot as plt"
      ],
      "execution_count": 1,
      "outputs": []
    },
    {
      "cell_type": "code",
      "metadata": {
        "id": "EzQewWOyVj3Y"
      },
      "source": [
        "from keras.layers import Input, SimpleRNN, Dense, Flatten, LSTM\n",
        "from keras.models import Sequential\n",
        "from keras.optimizers import SGD, Adam"
      ],
      "execution_count": 2,
      "outputs": []
    },
    {
      "cell_type": "code",
      "metadata": {
        "id": "64w5FYLaObl1",
        "colab": {
          "base_uri": "https://localhost:8080/"
        },
        "outputId": "4dd5d4a3-9867-4b07-f977-53e1d73bed96"
      },
      "source": [
        "!git clone https://github.com/ucfilho/Machine_Learning_DataSet\n",
        "%cd Machine_Learning_DataSet"
      ],
      "execution_count": 3,
      "outputs": [
        {
          "output_type": "stream",
          "text": [
            "fatal: destination path 'Machine_Learning_DataSet' already exists and is not an empty directory.\n",
            "/content/Machine_Learning_DataSet\n"
          ],
          "name": "stdout"
        }
      ]
    },
    {
      "cell_type": "code",
      "metadata": {
        "id": "GJzTMuujNlQ0"
      },
      "source": [
        "df=pd.read_csv(\"airline-passengers.csv\")"
      ],
      "execution_count": 4,
      "outputs": []
    },
    {
      "cell_type": "code",
      "metadata": {
        "id": "Td-D5xE3Nv0D"
      },
      "source": [
        "series = np.array(df['Passengers'])"
      ],
      "execution_count": 5,
      "outputs": []
    },
    {
      "cell_type": "code",
      "metadata": {
        "id": "ZB2PKKK4OvMp",
        "outputId": "2c9ec91b-c409-46e1-9e7b-584e43a204d9",
        "colab": {
          "base_uri": "https://localhost:8080/",
          "height": 282
        }
      },
      "source": [
        "plt.plot(series)"
      ],
      "execution_count": 6,
      "outputs": [
        {
          "output_type": "execute_result",
          "data": {
            "text/plain": [
              "[<matplotlib.lines.Line2D at 0x7fd504d06450>]"
            ]
          },
          "metadata": {
            "tags": []
          },
          "execution_count": 6
        },
        {
          "output_type": "display_data",
          "data": {
            "image/png": "[encoded data removed]",
            "text/plain": [
              "<Figure size 432x288 with 1 Axes>"
            ]
          },
          "metadata": {
            "tags": [],
            "needs_background": "light"
          }
        }
      ]
    },
    {
      "cell_type": "code",
      "metadata": {
        "id": "0ZhEvmnDQAPn",
        "outputId": "4ccf4a5f-a74f-46dc-c644-5e8f1c022dd9",
        "colab": {
          "base_uri": "https://localhost:8080/"
        }
      },
      "source": [
        "P = 10 # period\n",
        "D = 1\n",
        "X = []\n",
        "Y = []\n",
        "num,col = df.shape\n",
        "\n",
        "for t in range(num-P):\n",
        "  t_next = t+ P\n",
        "  xx = series[t:t_next]\n",
        "  X.append(xx)\n",
        "  yy = series[t_next]\n",
        "  Y.append(yy)\n",
        "\n",
        "X = np.array(X).reshape(-1,P,1) # data NxDxP\n",
        "Y = np.array(Y)\n",
        "print('input shape',X.shape,'output shape',Y.shape )"
      ],
      "execution_count": 7,
      "outputs": [
        {
          "output_type": "stream",
          "text": [
            "input shape (134, 10, 1) output shape (134,)\n"
          ],
          "name": "stdout"
        }
      ]
    },
    {
      "cell_type": "code",
      "metadata": {
        "id": "sM4ocPeUTVic",
        "outputId": "b13acf8d-e6bc-4dff-a622-1bc9a9b8f454",
        "colab": {
          "base_uri": "https://localhost:8080/"
        }
      },
      "source": [
        "X[0]"
      ],
      "execution_count": 8,
      "outputs": [
        {
          "output_type": "execute_result",
          "data": {
            "text/plain": [
              "array([[112],\n",
              "       [118],\n",
              "       [132],\n",
              "       [129],\n",
              "       [121],\n",
              "       [135],\n",
              "       [148],\n",
              "       [148],\n",
              "       [136],\n",
              "       [119]])"
            ]
          },
          "metadata": {
            "tags": []
          },
          "execution_count": 8
        }
      ]
    },
    {
      "cell_type": "code",
      "metadata": {
        "id": "92S4mjUNWnlR"
      },
      "source": [
        "N, cols, other = X.shape\n",
        "X_train = X[:-N//2]\n",
        "Y_train = Y[:-N//2]\n",
        "X_test = X[-N//2:]\n",
        "Y_test = Y[-N//2:]"
      ],
      "execution_count": 9,
      "outputs": []
    },
    {
      "cell_type": "code",
      "metadata": {
        "id": "aCVh4_ozTvga",
        "outputId": "f872e0cf-3e25-44ba-8b33-fef43e746e35",
        "colab": {
          "base_uri": "https://localhost:8080/"
        }
      },
      "source": [
        "model = Sequential()\n",
        "# Add an Embedding layer expecting input vocab of size 1000, and\n",
        "# output embedding dimension of size 64.\n",
        "model.add(Input(shape=(P,1)))\n",
        "\n",
        "# Add a simpleRNN layer with 5 internal units.\n",
        "model.add(LSTM(5,'relu'))\n",
        "# Add a Dense layer with 1 units.\n",
        "model.add(Dense(1))\n",
        "# \n",
        "model.summary()"
      ],
      "execution_count": 10,
      "outputs": [
        {
          "output_type": "stream",
          "text": [
            "WARNING:tensorflow:Please add `keras.layers.InputLayer` instead of `keras.Input` to Sequential model. `keras.Input` is intended to be used by Functional model.\n",
            "WARNING:tensorflow:Layer lstm will not use cuDNN kernels since it doesn't meet the criteria. It will use a generic GPU kernel as fallback when running on GPU.\n",
            "Model: \"sequential\"\n",
            "_________________________________________________________________\n",
            "Layer (type)                 Output Shape              Param #   \n",
            "=================================================================\n",
            "lstm (LSTM)                  (None, 5)                 140       \n",
            "_________________________________________________________________\n",
            "dense (Dense)                (None, 1)                 6         \n",
            "=================================================================\n",
            "Total params: 146\n",
            "Trainable params: 146\n",
            "Non-trainable params: 0\n",
            "_________________________________________________________________\n"
          ],
          "name": "stdout"
        }
      ]
    },
    {
      "cell_type": "code",
      "metadata": {
        "id": "1FJ_6l9kEu8b"
      },
      "source": [
        ""
      ],
      "execution_count": 10,
      "outputs": []
    },
    {
      "cell_type": "code",
      "metadata": {
        "id": "VXMKsjrbXJCe",
        "outputId": "d608ac6f-bfd1-4fec-a8da-ba1a52bce527",
        "colab": {
          "base_uri": "https://localhost:8080/"
        }
      },
      "source": [
        "model.compile(loss='mse',optimizer=Adam(lr=0.1))"
      ],
      "execution_count": 11,
      "outputs": [
        {
          "output_type": "stream",
          "text": [
            "/usr/local/lib/python3.7/dist-packages/tensorflow/python/keras/optimizer_v2/optimizer_v2.py:375: UserWarning: The `lr` argument is deprecated, use `learning_rate` instead.\n",
            "  \"The `lr` argument is deprecated, use `learning_rate` instead.\")\n"
          ],
          "name": "stderr"
        }
      ]
    },
    {
      "cell_type": "code",
      "metadata": {
        "id": "8fmK2AJFWixM",
        "outputId": "8c4576ef-cc5b-4134-ba81-6cbc695e3fac",
        "colab": {
          "base_uri": "https://localhost:8080/"
        }
      },
      "source": [
        "r = model.fit(X_train,Y_train,\n",
        "              epochs=100, \n",
        "              validation_data = ( X_test ,Y_test ) )"
      ],
      "execution_count": 12,
      "outputs": [
        {
          "output_type": "stream",
          "text": [
            "Epoch 1/100\n",
            "3/3 [==============================] - 21s 336ms/step - loss: 146171.6602 - val_loss: 68989.6406\n",
            "Epoch 2/100\n",
            "3/3 [==============================] - 0s 28ms/step - loss: 19776.7612 - val_loss: 100997.9141\n",
            "Epoch 3/100\n",
            "3/3 [==============================] - 0s 30ms/step - loss: 26891.9512 - val_loss: 117946.3359\n",
            "Epoch 4/100\n",
            "3/3 [==============================] - 0s 26ms/step - loss: 31711.4648 - val_loss: 127426.1953\n",
            "Epoch 5/100\n",
            "3/3 [==============================] - 0s 33ms/step - loss: 34110.3340 - val_loss: 132897.5156\n",
            "Epoch 6/100\n",
            "3/3 [==============================] - 0s 28ms/step - loss: 34741.5498 - val_loss: 135890.3594\n",
            "Epoch 7/100\n",
            "3/3 [==============================] - 0s 24ms/step - loss: 34763.0518 - val_loss: 137185.1875\n",
            "Epoch 8/100\n",
            "3/3 [==============================] - 0s 30ms/step - loss: 36409.8340 - val_loss: 137336.2188\n",
            "Epoch 9/100\n",
            "3/3 [==============================] - 0s 27ms/step - loss: 36891.6025 - val_loss: 136670.4219\n",
            "Epoch 10/100\n",
            "3/3 [==============================] - 0s 31ms/step - loss: 35242.6670 - val_loss: 135436.8281\n",
            "Epoch 11/100\n",
            "3/3 [==============================] - 0s 31ms/step - loss: 35851.6836 - val_loss: 133749.5938\n",
            "Epoch 12/100\n",
            "3/3 [==============================] - 0s 25ms/step - loss: 35018.1592 - val_loss: 131630.4844\n",
            "Epoch 13/100\n",
            "3/3 [==============================] - 0s 30ms/step - loss: 34644.1309 - val_loss: 129054.2656\n",
            "Epoch 14/100\n",
            "3/3 [==============================] - 0s 28ms/step - loss: 33020.2080 - val_loss: 126137.0156\n",
            "Epoch 15/100\n",
            "3/3 [==============================] - 0s 26ms/step - loss: 31252.5410 - val_loss: 122925.5312\n",
            "Epoch 16/100\n",
            "3/3 [==============================] - 0s 25ms/step - loss: 30737.0034 - val_loss: 119359.5234\n",
            "Epoch 17/100\n",
            "3/3 [==============================] - 0s 25ms/step - loss: 30995.0073 - val_loss: 115389.8047\n",
            "Epoch 18/100\n",
            "3/3 [==============================] - 0s 27ms/step - loss: 28984.0029 - val_loss: 111128.8438\n",
            "Epoch 19/100\n",
            "3/3 [==============================] - 0s 25ms/step - loss: 28555.1704 - val_loss: 106450.0234\n",
            "Epoch 20/100\n",
            "3/3 [==============================] - 0s 26ms/step - loss: 26810.7109 - val_loss: 101462.7344\n",
            "Epoch 21/100\n",
            "3/3 [==============================] - 0s 27ms/step - loss: 26316.2769 - val_loss: 96057.2500\n",
            "Epoch 22/100\n",
            "3/3 [==============================] - 0s 25ms/step - loss: 24183.6240 - val_loss: 90222.5547\n",
            "Epoch 23/100\n",
            "3/3 [==============================] - 0s 27ms/step - loss: 22334.2705 - val_loss: 83839.9141\n",
            "Epoch 24/100\n",
            "3/3 [==============================] - 0s 24ms/step - loss: 20621.4854 - val_loss: 77023.9219\n",
            "Epoch 25/100\n",
            "3/3 [==============================] - 0s 26ms/step - loss: 18775.8735 - val_loss: 69727.6641\n",
            "Epoch 26/100\n",
            "3/3 [==============================] - 0s 28ms/step - loss: 17000.0254 - val_loss: 62002.0391\n",
            "Epoch 27/100\n",
            "3/3 [==============================] - 0s 27ms/step - loss: 15045.8718 - val_loss: 53968.0781\n",
            "Epoch 28/100\n",
            "3/3 [==============================] - 0s 30ms/step - loss: 13012.9922 - val_loss: 46111.8555\n",
            "Epoch 29/100\n",
            "3/3 [==============================] - 0s 25ms/step - loss: 11185.8601 - val_loss: 38331.8477\n",
            "Epoch 30/100\n",
            "3/3 [==============================] - 0s 29ms/step - loss: 9011.4211 - val_loss: 30860.2344\n",
            "Epoch 31/100\n",
            "3/3 [==============================] - 0s 28ms/step - loss: 7475.1917 - val_loss: 24070.9590\n",
            "Epoch 32/100\n",
            "3/3 [==============================] - 0s 25ms/step - loss: 5458.7468 - val_loss: 18154.8652\n",
            "Epoch 33/100\n",
            "3/3 [==============================] - 0s 26ms/step - loss: 4041.6926 - val_loss: 13148.2314\n",
            "Epoch 34/100\n",
            "3/3 [==============================] - 0s 25ms/step - loss: 2978.9708 - val_loss: 9087.9648\n",
            "Epoch 35/100\n",
            "3/3 [==============================] - 0s 28ms/step - loss: 2018.2699 - val_loss: 6077.9141\n",
            "Epoch 36/100\n",
            "3/3 [==============================] - 0s 25ms/step - loss: 1312.8704 - val_loss: 4025.9180\n",
            "Epoch 37/100\n",
            "3/3 [==============================] - 0s 24ms/step - loss: 804.4492 - val_loss: 2742.8130\n",
            "Epoch 38/100\n",
            "3/3 [==============================] - 0s 25ms/step - loss: 565.3448 - val_loss: 2040.7090\n",
            "Epoch 39/100\n",
            "3/3 [==============================] - 0s 28ms/step - loss: 412.7602 - val_loss: 1743.1661\n",
            "Epoch 40/100\n",
            "3/3 [==============================] - 0s 26ms/step - loss: 367.4823 - val_loss: 1665.3965\n",
            "Epoch 41/100\n",
            "3/3 [==============================] - 0s 25ms/step - loss: 391.4868 - val_loss: 1686.0487\n",
            "Epoch 42/100\n",
            "3/3 [==============================] - 0s 28ms/step - loss: 444.9943 - val_loss: 1726.5776\n",
            "Epoch 43/100\n",
            "3/3 [==============================] - 0s 29ms/step - loss: 438.4473 - val_loss: 1751.0992\n",
            "Epoch 44/100\n",
            "3/3 [==============================] - 0s 26ms/step - loss: 444.3654 - val_loss: 1753.2594\n",
            "Epoch 45/100\n",
            "3/3 [==============================] - 0s 25ms/step - loss: 432.9905 - val_loss: 1735.5712\n",
            "Epoch 46/100\n",
            "3/3 [==============================] - 0s 26ms/step - loss: 430.3253 - val_loss: 1718.2382\n",
            "Epoch 47/100\n",
            "3/3 [==============================] - 0s 26ms/step - loss: 427.1901 - val_loss: 1698.9465\n",
            "Epoch 48/100\n",
            "3/3 [==============================] - 0s 26ms/step - loss: 439.2050 - val_loss: 1680.2875\n",
            "Epoch 49/100\n",
            "3/3 [==============================] - 0s 24ms/step - loss: 431.7402 - val_loss: 1667.6316\n",
            "Epoch 50/100\n",
            "3/3 [==============================] - 0s 25ms/step - loss: 406.5069 - val_loss: 1664.3169\n",
            "Epoch 51/100\n",
            "3/3 [==============================] - 0s 26ms/step - loss: 382.8598 - val_loss: 1670.1406\n",
            "Epoch 52/100\n",
            "3/3 [==============================] - 0s 27ms/step - loss: 364.9780 - val_loss: 1684.3451\n",
            "Epoch 53/100\n",
            "3/3 [==============================] - 0s 25ms/step - loss: 364.9264 - val_loss: 1703.4583\n",
            "Epoch 54/100\n",
            "3/3 [==============================] - 0s 25ms/step - loss: 387.3426 - val_loss: 1719.0204\n",
            "Epoch 55/100\n",
            "3/3 [==============================] - 0s 28ms/step - loss: 364.3824 - val_loss: 1728.1639\n",
            "Epoch 56/100\n",
            "3/3 [==============================] - 0s 27ms/step - loss: 369.2597 - val_loss: 1720.7456\n",
            "Epoch 57/100\n",
            "3/3 [==============================] - 0s 27ms/step - loss: 403.3834 - val_loss: 1715.0923\n",
            "Epoch 58/100\n",
            "3/3 [==============================] - 0s 31ms/step - loss: 376.3439 - val_loss: 1713.0320\n",
            "Epoch 59/100\n",
            "3/3 [==============================] - 0s 26ms/step - loss: 397.3302 - val_loss: 1716.0249\n",
            "Epoch 60/100\n",
            "3/3 [==============================] - 0s 25ms/step - loss: 386.7061 - val_loss: 1717.5438\n",
            "Epoch 61/100\n",
            "3/3 [==============================] - 0s 24ms/step - loss: 372.2324 - val_loss: 1721.4408\n",
            "Epoch 62/100\n",
            "3/3 [==============================] - 0s 33ms/step - loss: 388.5797 - val_loss: 1734.5006\n",
            "Epoch 63/100\n",
            "3/3 [==============================] - 0s 24ms/step - loss: 377.3028 - val_loss: 1743.9061\n",
            "Epoch 64/100\n",
            "3/3 [==============================] - 0s 24ms/step - loss: 387.6204 - val_loss: 1754.6932\n",
            "Epoch 65/100\n",
            "3/3 [==============================] - 0s 26ms/step - loss: 386.1116 - val_loss: 1766.0359\n",
            "Epoch 66/100\n",
            "3/3 [==============================] - 0s 27ms/step - loss: 358.1663 - val_loss: 1752.9919\n",
            "Epoch 67/100\n",
            "3/3 [==============================] - 0s 27ms/step - loss: 362.6700 - val_loss: 1730.7192\n",
            "Epoch 68/100\n",
            "3/3 [==============================] - 0s 32ms/step - loss: 386.0857 - val_loss: 1717.6180\n",
            "Epoch 69/100\n",
            "3/3 [==============================] - 0s 28ms/step - loss: 357.6061 - val_loss: 1709.1368\n",
            "Epoch 70/100\n",
            "3/3 [==============================] - 0s 25ms/step - loss: 398.6796 - val_loss: 1698.5470\n",
            "Epoch 71/100\n",
            "3/3 [==============================] - 0s 27ms/step - loss: 383.4596 - val_loss: 1691.5845\n",
            "Epoch 72/100\n",
            "3/3 [==============================] - 0s 27ms/step - loss: 395.0622 - val_loss: 1686.4480\n",
            "Epoch 73/100\n",
            "3/3 [==============================] - 0s 25ms/step - loss: 368.7183 - val_loss: 1678.0780\n",
            "Epoch 74/100\n",
            "3/3 [==============================] - 0s 34ms/step - loss: 387.2134 - val_loss: 1672.4030\n",
            "Epoch 75/100\n",
            "3/3 [==============================] - 0s 26ms/step - loss: 399.5118 - val_loss: 1676.6133\n",
            "Epoch 76/100\n",
            "3/3 [==============================] - 0s 29ms/step - loss: 343.2303 - val_loss: 1684.3394\n",
            "Epoch 77/100\n",
            "3/3 [==============================] - 0s 26ms/step - loss: 399.5330 - val_loss: 1698.6945\n",
            "Epoch 78/100\n",
            "3/3 [==============================] - 0s 27ms/step - loss: 393.4977 - val_loss: 1712.6674\n",
            "Epoch 79/100\n",
            "3/3 [==============================] - 0s 29ms/step - loss: 416.1074 - val_loss: 1719.2633\n",
            "Epoch 80/100\n",
            "3/3 [==============================] - 0s 25ms/step - loss: 387.2936 - val_loss: 1727.6113\n",
            "Epoch 81/100\n",
            "3/3 [==============================] - 0s 27ms/step - loss: 389.2507 - val_loss: 1724.8083\n",
            "Epoch 82/100\n",
            "3/3 [==============================] - 0s 32ms/step - loss: 394.8962 - val_loss: 1718.6348\n",
            "Epoch 83/100\n",
            "3/3 [==============================] - 0s 28ms/step - loss: 378.2821 - val_loss: 1722.3342\n",
            "Epoch 84/100\n",
            "3/3 [==============================] - 0s 27ms/step - loss: 391.5038 - val_loss: 1732.4955\n",
            "Epoch 85/100\n",
            "3/3 [==============================] - 0s 25ms/step - loss: 356.3603 - val_loss: 1754.0830\n",
            "Epoch 86/100\n",
            "3/3 [==============================] - 0s 26ms/step - loss: 383.3277 - val_loss: 1772.1124\n",
            "Epoch 87/100\n",
            "3/3 [==============================] - 0s 27ms/step - loss: 394.4068 - val_loss: 1773.2843\n",
            "Epoch 88/100\n",
            "3/3 [==============================] - 0s 25ms/step - loss: 389.0019 - val_loss: 1788.6191\n",
            "Epoch 89/100\n",
            "3/3 [==============================] - 0s 27ms/step - loss: 403.8886 - val_loss: 1802.0989\n",
            "Epoch 90/100\n",
            "3/3 [==============================] - 0s 29ms/step - loss: 376.3879 - val_loss: 1789.5457\n",
            "Epoch 91/100\n",
            "3/3 [==============================] - 0s 26ms/step - loss: 383.8413 - val_loss: 1754.9026\n",
            "Epoch 92/100\n",
            "3/3 [==============================] - 0s 28ms/step - loss: 381.1673 - val_loss: 1726.0068\n",
            "Epoch 93/100\n",
            "3/3 [==============================] - 0s 30ms/step - loss: 379.8106 - val_loss: 1714.3228\n",
            "Epoch 94/100\n",
            "3/3 [==============================] - 0s 27ms/step - loss: 383.5194 - val_loss: 1706.2491\n",
            "Epoch 95/100\n",
            "3/3 [==============================] - 0s 27ms/step - loss: 406.0795 - val_loss: 1696.9569\n",
            "Epoch 96/100\n",
            "3/3 [==============================] - 0s 24ms/step - loss: 383.3119 - val_loss: 1701.9552\n",
            "Epoch 97/100\n",
            "3/3 [==============================] - 0s 28ms/step - loss: 379.1574 - val_loss: 1713.5361\n",
            "Epoch 98/100\n",
            "3/3 [==============================] - 0s 27ms/step - loss: 401.1127 - val_loss: 1724.4272\n",
            "Epoch 99/100\n",
            "3/3 [==============================] - 0s 27ms/step - loss: 377.2732 - val_loss: 1740.6483\n",
            "Epoch 100/100\n",
            "3/3 [==============================] - 0s 26ms/step - loss: 354.6267 - val_loss: 1745.2870\n"
          ],
          "name": "stdout"
        }
      ]
    },
    {
      "cell_type": "code",
      "metadata": {
        "id": "U2SXEV-5Z7Sq",
        "outputId": "d8bb85dc-f243-42e5-c374-7fff183e86e3",
        "colab": {
          "base_uri": "https://localhost:8080/",
          "height": 282
        }
      },
      "source": [
        "plt.plot(r.history['loss'],label='loss')\n",
        "plt.plot(r.history['val_loss'],label='val_loss')\n",
        "plt.legend()"
      ],
      "execution_count": 13,
      "outputs": [
        {
          "output_type": "execute_result",
          "data": {
            "text/plain": [
              "<matplotlib.legend.Legend at 0x7fd4f05b4c10>"
            ]
          },
          "metadata": {
            "tags": []
          },
          "execution_count": 13
        },
        {
          "output_type": "display_data",
          "data": {
            "image/png": "[encoded data removed]",
            "text/plain": [
              "<Figure size 432x288 with 1 Axes>"
            ]
          },
          "metadata": {
            "tags": [],
            "needs_background": "light"
          }
        }
      ]
    },
    {
      "cell_type": "code",
      "metadata": {
        "id": "2gHp7iLwa0lG",
        "outputId": "90f40147-709a-4f55-e22c-f8fcd2efaf22",
        "colab": {
          "base_uri": "https://localhost:8080/",
          "height": 282
        }
      },
      "source": [
        "# this is a wrong way to do....\n",
        "pred_Y = model.predict(X_test)\n",
        "plt.plot(Y_test, label='prediction target')\n",
        "plt.plot(pred_Y, label='prediction forecast')"
      ],
      "execution_count": 14,
      "outputs": [
        {
          "output_type": "execute_result",
          "data": {
            "text/plain": [
              "[<matplotlib.lines.Line2D at 0x7fd4a7189a90>]"
            ]
          },
          "metadata": {
            "tags": []
          },
          "execution_count": 14
        },
        {
          "output_type": "display_data",
          "data": {
            "image/png": "[encoded data removed]",
            "text/plain": [
              "<Figure size 432x288 with 1 Axes>"
            ]
          },
          "metadata": {
            "tags": [],
            "needs_background": "light"
          }
        }
      ]
    },
    {
      "cell_type": "code",
      "metadata": {
        "id": "IQHyC5xnbKHn"
      },
      "source": [
        "pred_test = []\n",
        "for xi in X_test:\n",
        "  yi = model.predict(xi.reshape(1,-1,1))[0,0]\n",
        "  pred_test.append(yi)"
      ],
      "execution_count": 15,
      "outputs": []
    },
    {
      "cell_type": "code",
      "metadata": {
        "id": "1BAOvmGnpStZ",
        "outputId": "f0df45af-051e-4ae6-889a-92301e1b7fba",
        "colab": {
          "base_uri": "https://localhost:8080/",
          "height": 282
        }
      },
      "source": [
        "plt.plot(Y_test, label='prediction target')\n",
        "plt.plot(pred_test, label='prediction forecast')"
      ],
      "execution_count": 16,
      "outputs": [
        {
          "output_type": "execute_result",
          "data": {
            "text/plain": [
              "[<matplotlib.lines.Line2D at 0x7fd4b8192990>]"
            ]
          },
          "metadata": {
            "tags": []
          },
          "execution_count": 16
        },
        {
          "output_type": "display_data",
          "data": {
            "image/png": "[encoded data removed]",
            "text/plain": [
              "<Figure size 432x288 with 1 Axes>"
            ]
          },
          "metadata": {
            "tags": [],
            "needs_background": "light"
          }
        }
      ]
    },
    {
      "cell_type": "code",
      "metadata": {
        "id": "ILdLWpK8q1oo",
        "outputId": "5f1b2396-b457-45af-fcc7-7434762ee039",
        "colab": {
          "base_uri": "https://localhost:8080/"
        }
      },
      "source": [
        "a,b = model.layers[1].get_weights()\n",
        "print(a.shape,b.shape)"
      ],
      "execution_count": 17,
      "outputs": [
        {
          "output_type": "stream",
          "text": [
            "(5, 1) (1,)\n"
          ],
          "name": "stdout"
        }
      ]
    },
    {
      "cell_type": "code",
      "metadata": {
        "id": "BjW7xc8bctXI",
        "outputId": "89a5675e-f4ac-42a4-daf9-d169137d6d1c",
        "colab": {
          "base_uri": "https://localhost:8080/"
        }
      },
      "source": [
        "print(a)\n",
        "print('===============')\n",
        "print(b)"
      ],
      "execution_count": 18,
      "outputs": [
        {
          "output_type": "stream",
          "text": [
            "[[-0.42691258]\n",
            " [-0.40852493]\n",
            " [-0.87467885]\n",
            " [ 1.6375513 ]\n",
            " [ 0.25333834]]\n",
            "===============\n",
            "[8.108887]\n"
          ],
          "name": "stdout"
        }
      ]
    }
  ]
}