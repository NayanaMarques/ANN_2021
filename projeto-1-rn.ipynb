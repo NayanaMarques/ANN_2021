{
  "nbformat": 4,
  "nbformat_minor": 0,
  "metadata": {
    "colab": {
      "name": "Projeto 1 RN.ipynb",
      "provenance": []
    },
    "kernelspec": {
      "name": "python3",
      "display_name": "Python 3"
    },
    "language_info": {
      "name": "python"
    }
  },
  "cells": [
    {
      "cell_type": "code",
      "metadata": {
        "id": "1Dnn5My4tqNF"
      },
      "source": [
        "#Projeto 1: Redes Neurais - Professor Ubirajara Filho\n",
        "#Nayana G. Marques Silva\n",
        "#Artigo: ???\n",
        "#\n",
        "#Definição de bibliotecas\n",
        "import numpy as np #biblioteca numérica Phyton\n",
        "import pandas as pd #biblioteca para manipulação de arquivos\n",
        "import matplotlib.pyplot as plt #biblioteca para gráficos no Phyton\n",
        "from sklearn.neural_network import MLPRegressor #biblioteca para classificação e regressão (aplidado para regressão - MLPRegressor)\n",
        "from sklearn.metrics import mean_squared_error\n",
        "# Essa biblioteca é usada para fazer a soma dos quadrados dos desvios\n",
        "from sklearn.metrics import r2_score \n",
        "# Essa biblioteca foi criada para avaliar se o ajuste está bom através do coeficiente de determinação\n",
        "from google.colab import files\n",
        "# Essa biblioteca é usada para carregar arquivos no Phyton\n"
      ],
      "execution_count": null,
      "outputs": []
    },
    {
      "cell_type": "code",
      "metadata": {
        "id": "5qZF3TZHz3G0"
      },
      "source": [
        "%matplotlib inline\n",
        "# Esse comando indica a construção de gráficos no browser, entretanto, mesmo sem essa linha o Phyton geraria o gráfico normalmente"
      ],
      "execution_count": null,
      "outputs": []
    },
    {
      "cell_type": "code",
      "metadata": {
        "id": "Bp-Tx3yfkUhT",
        "colab": {
          "base_uri": "https://localhost:8080/"
        },
        "outputId": "60cd5213-4ded-40cf-ff29-2a9a0082c5f6"
      },
      "source": [
        "!git clone https://github.com/Fernanda101704/Basededados\n",
        "%cd Basededados"
      ],
      "execution_count": null,
      "outputs": [
        {
          "output_type": "stream",
          "text": [
            "fatal: destination path 'Basededados' already exists and is not an empty directory.\n",
            "/content/Basededados\n"
          ],
          "name": "stdout"
        }
      ]
    },
    {
      "cell_type": "code",
      "metadata": {
        "id": "mO582cA2kg9y",
        "colab": {
          "base_uri": "https://localhost:8080/"
        },
        "outputId": "9b83f4c3-c2eb-43f8-ccec-2f2470881f7c"
      },
      "source": [
        "# leitura dos dados\n",
        "df=pd.read_csv(\"Dados projeto 1 RN.csv\",delimiter=';')\n",
        "print(df.head())"
      ],
      "execution_count": null,
      "outputs": [
        {
          "output_type": "stream",
          "text": [
            "  Abs    IC    AA         AD    PRA\n",
            "0  BR  1000   2.0       39.0  78.00\n",
            "1  BR  1000   4.0       21.5  86.00\n",
            "2  BR  1000   6.0  1491667.0  89.50\n",
            "3  BR  1000   8.0   115625.0  92.50\n",
            "4  BR  1000  10.0     9375.0  93.75\n"
          ],
          "name": "stdout"
        }
      ]
    }
  ]
}